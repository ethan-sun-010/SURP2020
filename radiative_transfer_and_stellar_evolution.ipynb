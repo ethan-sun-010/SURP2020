{
 "cells": [
  {
   "cell_type": "markdown",
   "metadata": {},
   "source": [
    "By Almog Yalinewich"
   ]
  },
  {
   "cell_type": "code",
   "execution_count": 1,
   "metadata": {},
   "outputs": [
    {
     "name": "stdout",
     "output_type": "stream",
     "text": [
      "1\n"
     ]
    }
   ],
   "source": [
    "import sympy\n",
    "sympy.init_printing()\n",
    "a=1\n",
    "print(a)"
   ]
  },
  {
   "cell_type": "markdown",
   "metadata": {},
   "source": [
    "# Introduction"
   ]
  },
  {
   "cell_type": "markdown",
   "metadata": {},
   "source": [
    "<img scr=\"https://i.redd.it/uwdu43xzucr21.jpg\">"
   ]
  },
  {
   "cell_type": "markdown",
   "metadata": {},
   "source": [
    "<img src=\"https://i.pinimg.com/564x/a9/34/92/a934921162173d374f624aef33fed240.jpg\">"
   ]
  },
  {
   "cell_type": "markdown",
   "metadata": {},
   "source": [
    "One of the greatest scientific successes in the 20th century is explaining how stars work. The major breakthrough came in 1920, when Arthur Eddington proposed that stars are powered by nuclear fusion. This insight lead to long series of discoveries, and new scientific disciplines, namely stellar structure and evolution. In this notebook we will focus on the relation between the masses, radii and luminosities of stars. These relations give rise to a pattern known as the [main sequence](https://en.wikipedia.org/wiki/Main_sequence), as can be seen on the [Herzsprung-Russell diagram](https://en.wikipedia.org/wiki/Hertzsprung%E2%80%93Russell_diagram). We start this lecture with an overview of some relevant radiative processes. We begin the lecture by considering the journey radiant energy makes on its way from the core where it is generated to the stellar surface. The phenomena that determine the properties of this radiative energy  are called radiative processes."
   ]
  },
  {
   "cell_type": "markdown",
   "metadata": {},
   "source": [
    "# General Instruction"
   ]
  },
  {
   "cell_type": "markdown",
   "metadata": {},
   "source": [
    "In the following notebook you will find an interactive tutorial on radiative processes and stellar evolution. Each exercise aims to teach one concept, and will guide you through the derivation. Each exercise is made up of several blocks that look like this:\n",
    "\n",
    "```python\n",
    "print(\"a) what is...?\")\n",
    "answer_a = sympy.Integer(0)\n",
    "display(answer_a)\n",
    "print('unit check')\n",
    "display(answer_a.subs(unit_check))\n",
    "print(validate.exercise_1_a(answer_a))\n",
    "```\n",
    "\n",
    "You should enter the solution in the second line. The fifth line performs a unit check, and the sixth line checks if the the answer is true. We will be using the sympy package for symbolic calculations.\n",
    "\n",
    "## Sympy Cheat Sheet\n",
    "\n",
    "Arithmetic operations, i.e. $+,-,*,/$ work as you would expect. Raising to a power is denoted by two asterisks **\n",
    "\n",
    "You can substitute an expression into a variable using the subs method"
   ]
  },
  {
   "cell_type": "code",
   "execution_count": null,
   "metadata": {},
   "outputs": [],
   "source": [
    "def subs_demo():\n",
    "    \n",
    "    x, y = sympy.symbols('x, y')\n",
    "    \n",
    "    expr = sympy.sin(y).subs(y, x**2)\n",
    "    return expr\n",
    "subs_demo()"
   ]
  },
  {
   "cell_type": "markdown",
   "metadata": {},
   "source": [
    "You can solve equations using the solve method"
   ]
  },
  {
   "cell_type": "code",
   "execution_count": null,
   "metadata": {},
   "outputs": [],
   "source": [
    "def solve_demo():\n",
    "    \n",
    "    x = sympy.Symbol('x')\n",
    "    \n",
    "    eqn = sympy.Eq(3*x,6) # Creates an equation\n",
    "    return sympy.solve(eqn,x)[0] # Solve returns a list since an equation can have multiple solutions\n",
    "solve_demo()"
   ]
  },
  {
   "cell_type": "markdown",
   "metadata": {},
   "source": [
    "Note that you don't have to use an equation object. If you apply solve to some expression than it will assume you want to find the roots of that expression, e.g."
   ]
  },
  {
   "cell_type": "code",
   "execution_count": null,
   "metadata": {},
   "outputs": [],
   "source": [
    "def solve_demo2():\n",
    "    \n",
    "    x = sympy.Symbol('x')\n",
    "    \n",
    "    eqn = 3*x-6 # Creates an equation\n",
    "    return sympy.solve(eqn,x)[0] # Solve returns a list since an equation can have multiple solutions\n",
    "solve_demo2()"
   ]
  },
  {
   "cell_type": "markdown",
   "metadata": {},
   "source": [
    "If you want to raise an expression to a fractional power, then this\n",
    "\n",
    "```python\n",
    "x**(1/3)\n",
    "```\n",
    "\n",
    "returns a result different from\n",
    "\n",
    "```python\n",
    "x**sympy.Rational(1,3)\n",
    "```\n",
    "\n",
    "and you should always use the latter\n",
    "\n",
    "Good luck!"
   ]
  },
  {
   "cell_type": "markdown",
   "metadata": {},
   "source": [
    "# Radiative Processes"
   ]
  },
  {
   "cell_type": "markdown",
   "metadata": {},
   "source": [
    "Stars are the result of a balance between two forces: one the one hand there's gravity, which tends to squeeze the the star, and on the other hand there's thermal pressure sustain by thermonuclear burning which tends to expand the star. The same thermal energy that supports the star against gravity is constantly leaking out of the star in the form of radiation, which is why we can see them. "
   ]
  },
  {
   "cell_type": "markdown",
   "metadata": {},
   "source": [
    "## Larmor Forumula"
   ]
  },
  {
   "cell_type": "markdown",
   "metadata": {},
   "source": [
    "Let us consider a charge $q$ that moves to the left with velocity $v$, and at some point comes to a halt within a short period of time $\\Delta t$. The information about the sudden stop travels at the speed of light $c$. The field outside the light front is still radial relative to the previous trajectory of the particle, and interior to the light front the field is radial relative to the new trajectory. Inside a thin shell of thickness $c \\Delta t$ the field transitions from one configuration to the other."
   ]
  },
  {
   "cell_type": "markdown",
   "metadata": {},
   "source": [
    "<img src=\"https://blog.cupcakephysics.com/assets/images/2014-11-23/larmor_diagram_purcell.png\">"
   ]
  },
  {
   "cell_type": "markdown",
   "metadata": {},
   "source": [
    "Let us focus on what happens directly above the terminal position of the particle (along the y axis)"
   ]
  },
  {
   "cell_type": "markdown",
   "metadata": {},
   "source": [
    "<img src=\"larmor.png\" width=500>"
   ]
  },
  {
   "cell_type": "markdown",
   "metadata": {},
   "source": [
    "Guided derivation"
   ]
  },
  {
   "cell_type": "code",
   "execution_count": null,
   "metadata": {},
   "outputs": [],
   "source": [
    "def exercise_1():\n",
    "    \n",
    "    import validate\n",
    "    import importlib\n",
    "    importlib.reload(validate)\n",
    "    \n",
    "    R = sympy.Symbol('R', positive=True) # Distance from the terminal position\n",
    "    c = sympy.Symbol('c', positive=True) # speed of light\n",
    "    v = sympy.Symbol('v', positive=True) # Particle velocity\n",
    "    q = sympy.Symbol('q', positive=True) # Electric charge\n",
    "    a = sympy.Symbol('a', positive=True) # Acceleration\n",
    "    \n",
    "    # For unit checks\n",
    "    mass = sympy.Symbol(r'\\mathcal{M}', positive=True)\n",
    "    length = sympy.Symbol(r'\\mathcal{L}', positive=True)\n",
    "    time = sympy.Symbol(r'\\mathcal{T}', positive=True)\n",
    "    unit_check = {R:length,\n",
    "                  c:length/time,\n",
    "                  v:length/time,\n",
    "                  q:sympy.sqrt(mass*length**3/time**2),\n",
    "                  a:length/time**2}\n",
    "    \n",
    "    # Section a\n",
    "    print(\"a) How long does it take for the light front to reach a distance R?\")\n",
    "    answer_a = R/c\n",
    "    display(answer_a)\n",
    "    print('unit check')\n",
    "    display(answer_a.subs(unit_check))\n",
    "    print(validate.exercise_1_a(answer_a))\n",
    "    \n",
    "    # Section b\n",
    "    print('b) Had the particle kept on moving at velocity v, what distance would it traverse?')\n",
    "    answer_b = sympy.Integer(0)\n",
    "    display(answer_b)\n",
    "    print('unit check')\n",
    "    display(answer_b.subs(unit_check))\n",
    "    print(validate.exercise_1_b(answer_b))\n",
    "\n",
    "    \n",
    "    # Section c\n",
    "    print('c) Given the acceleration and velocity, how long does it take for the particle to halt?')\n",
    "    answer_c = sympy.Integer(0)\n",
    "    display(answer_c)\n",
    "    print('unit check')\n",
    "    display(answer_c.subs(unit_check))\n",
    "    print(validate.exercise_1_c(answer_c))\n",
    "    \n",
    "    # Section d\n",
    "    print(\"d) Using Coulomb's law, what is the radial electric field close to the light front?\")\n",
    "    answer_d = sympy.Integer(0)\n",
    "    display(answer_d)\n",
    "    print('unit check')\n",
    "    display(answer_d.subs(unit_check))\n",
    "    print(validate.exercise_1_d(answer_d))\n",
    "        \n",
    "    # Section e\n",
    "    print('e) Using the geometric construction above, find the tangential component of the electric field')\n",
    "    answer_e = sympy.Integer(0)\n",
    "    display(answer_e)\n",
    "    print('unit check')\n",
    "    display(answer_e.subs(unit_check))\n",
    "    print(validate.exercise_1_e(answer_e))\n",
    "    \n",
    "    # Section f\n",
    "    print('f) Find the energy density of the tangential electric field')\n",
    "    answer_f = sympy.Integer(0)\n",
    "    display(answer_f)\n",
    "    print('unit check')\n",
    "    display(answer_f.subs(unit_check))\n",
    "    print(validate.exercise_1_f(answer_f))\n",
    "    \n",
    "    # Section g\n",
    "    print('g) Find the energy flux')\n",
    "    answer_g = sympy.Integer(0)\n",
    "    display(answer_g)\n",
    "    print('unit check')\n",
    "    display(answer_g.subs(unit_check))\n",
    "    print(validate.exercise_1_g(answer_g))\n",
    "    \n",
    "    # Section h\n",
    "    print('h) Find the luminosity assuming the flux does not change considerably across the light front')\n",
    "    answer_h = sympy.Integer(0)\n",
    "    display(answer_h)\n",
    "    print('unit check')\n",
    "    display(answer_h.subs(unit_check))\n",
    "    print(validate.exercise_1_h(answer_h))\n",
    "\n",
    "exercise_1()"
   ]
  },
  {
   "cell_type": "markdown",
   "metadata": {},
   "source": [
    "This last result (up to a numerical prefactor) is called the [Larmor formula](https://en.wikipedia.org/wiki/Larmor_formula). See [here](https://blog.cupcakephysics.com/electromagnetism/2014/11/23/thomsons-derivation-of-the-larmor-formula.html) for a more rigorous derivation."
   ]
  },
  {
   "cell_type": "markdown",
   "metadata": {},
   "source": [
    "## Bremsstrahlung / Free - free emission"
   ]
  },
  {
   "cell_type": "markdown",
   "metadata": {},
   "source": [
    "When a free electron passes near a free proton, the electron gets scattered. From Larmor's formula we know that in that process the electron must emit some radiation. We assume that the electron is moving so fast that the scattering is small. We will also employ the so called impulse approximation, where all the interaction happens at the point of closest approach. Another thing to note is that such scatterings happen at all impact parameters, but the radiation is dominated by those that happen with the smallest separation, which is given by the [de Broglie wavelength](https://en.wikipedia.org/wiki/Matter_wave) of the electron. In this section we will estimate the amount of energy emitted in this process. "
   ]
  },
  {
   "cell_type": "markdown",
   "metadata": {},
   "source": [
    "<img src=\"free_free.png\">"
   ]
  },
  {
   "cell_type": "code",
   "execution_count": 11,
   "metadata": {},
   "outputs": [
    {
     "name": "stdout",
     "output_type": "stream",
     "text": [
      "a) Due to Heisenberg's uncertainty principle, the minimum distance between the electron and proton cannotdrop below the de Broglie wavelength. What is the de Broglie wavelength?\n"
     ]
    },
    {
     "data": {
      "image/png": "[encoded data removed]",
      "text/latex": [
       "$\\displaystyle 0$"
      ],
      "text/plain": [
       "0"
      ]
     },
     "metadata": {},
     "output_type": "display_data"
    },
    {
     "name": "stdout",
     "output_type": "stream",
     "text": [
      "unit check\n"
     ]
    },
    {
     "data": {
      "image/png": "[encoded data removed]",
      "text/latex": [
       "$\\displaystyle 0$"
      ],
      "text/plain": [
       "0"
      ]
     },
     "metadata": {},
     "output_type": "display_data"
    },
    {
     "name": "stdout",
     "output_type": "stream",
     "text": [
      "Try again\n",
      "b) Find the electron's acceleration at the point of closest approach\n"
     ]
    },
    {
     "data": {
      "image/png": "[encoded data removed]",
      "text/latex": [
       "$\\displaystyle 0$"
      ],
      "text/plain": [
       "0"
      ]
     },
     "metadata": {},
     "output_type": "display_data"
    },
    {
     "name": "stdout",
     "output_type": "stream",
     "text": [
      "unit check\n"
     ]
    },
    {
     "data": {
      "image/png": "[encoded data removed]",
      "text/latex": [
       "$\\displaystyle 0$"
      ],
      "text/plain": [
       "0"
      ]
     },
     "metadata": {},
     "output_type": "display_data"
    },
    {
     "name": "stdout",
     "output_type": "stream",
     "text": [
      "Try again\n",
      "c) Find the luminosity at that point\n"
     ]
    },
    {
     "data": {
      "image/png": "[encoded data removed]",
      "text/latex": [
       "$\\displaystyle 0$"
      ],
      "text/plain": [
       "0"
      ]
     },
     "metadata": {},
     "output_type": "display_data"
    },
    {
     "name": "stdout",
     "output_type": "stream",
     "text": [
      "unit check\n"
     ]
    },
    {
     "data": {
      "image/png": "[encoded data removed]",
      "text/latex": [
       "$\\displaystyle 0$"
      ],
      "text/plain": [
       "0"
      ]
     },
     "metadata": {},
     "output_type": "display_data"
    },
    {
     "name": "stdout",
     "output_type": "stream",
     "text": [
      "Try again\n",
      "d) How long does the electron spend close to the proton, i.e. at a distance comparable to the minimal distance?\n"
     ]
    },
    {
     "data": {
      "image/png": "[encoded data removed]",
      "text/latex": [
       "$\\displaystyle 0$"
      ],
      "text/plain": [
       "0"
      ]
     },
     "metadata": {},
     "output_type": "display_data"
    },
    {
     "name": "stdout",
     "output_type": "stream",
     "text": [
      "unit check\n"
     ]
    },
    {
     "data": {
      "image/png": "[encoded data removed]",
      "text/latex": [
       "$\\displaystyle 0$"
      ],
      "text/plain": [
       "0"
      ]
     },
     "metadata": {},
     "output_type": "display_data"
    },
    {
     "name": "stdout",
     "output_type": "stream",
     "text": [
      "Try again\n",
      "e) How much energy is emitted in a single interaction?\n"
     ]
    },
    {
     "data": {
      "image/png": "[encoded data removed]",
      "text/latex": [
       "$\\displaystyle 0$"
      ],
      "text/plain": [
       "0"
      ]
     },
     "metadata": {},
     "output_type": "display_data"
    },
    {
     "name": "stdout",
     "output_type": "stream",
     "text": [
      "unit check\n"
     ]
    },
    {
     "data": {
      "image/png": "[encoded data removed]",
      "text/latex": [
       "$\\displaystyle 0$"
      ],
      "text/plain": [
       "0"
      ]
     },
     "metadata": {},
     "output_type": "display_data"
    },
    {
     "name": "stdout",
     "output_type": "stream",
     "text": [
      "Try again\n",
      "f) What is the cross section for this interaction?\n"
     ]
    },
    {
     "data": {
      "image/png": "[encoded data removed]",
      "text/latex": [
       "$\\displaystyle 0$"
      ],
      "text/plain": [
       "0"
      ]
     },
     "metadata": {},
     "output_type": "display_data"
    },
    {
     "name": "stdout",
     "output_type": "stream",
     "text": [
      "unit check\n"
     ]
    },
    {
     "data": {
      "image/png": "[encoded data removed]",
      "text/latex": [
       "$\\displaystyle 0$"
      ],
      "text/plain": [
       "0"
      ]
     },
     "metadata": {},
     "output_type": "display_data"
    },
    {
     "name": "stdout",
     "output_type": "stream",
     "text": [
      "Try again\n",
      "g) What is the average time interval between consecutive interactions?\n"
     ]
    },
    {
     "data": {
      "image/png": "[encoded data removed]",
      "text/latex": [
       "$\\displaystyle 0$"
      ],
      "text/plain": [
       "0"
      ]
     },
     "metadata": {},
     "output_type": "display_data"
    },
    {
     "name": "stdout",
     "output_type": "stream",
     "text": [
      "unit check\n"
     ]
    },
    {
     "data": {
      "image/png": "[encoded data removed]",
      "text/latex": [
       "$\\displaystyle 0$"
      ],
      "text/plain": [
       "0"
      ]
     },
     "metadata": {},
     "output_type": "display_data"
    },
    {
     "name": "stdout",
     "output_type": "stream",
     "text": [
      "Try again\n",
      "h) What is the average luminosity for a single electron?\n"
     ]
    },
    {
     "data": {
      "image/png": "[encoded data removed]",
      "text/latex": [
       "$\\displaystyle 0$"
      ],
      "text/plain": [
       "0"
      ]
     },
     "metadata": {},
     "output_type": "display_data"
    },
    {
     "name": "stdout",
     "output_type": "stream",
     "text": [
      "unit check\n"
     ]
    },
    {
     "data": {
      "image/png": "[encoded data removed]",
      "text/latex": [
       "$\\displaystyle 0$"
      ],
      "text/plain": [
       "0"
      ]
     },
     "metadata": {},
     "output_type": "display_data"
    },
    {
     "name": "stdout",
     "output_type": "stream",
     "text": [
      "Try again\n",
      "i) What is the emissivity (luminosity per unit volume)?\n"
     ]
    },
    {
     "data": {
      "image/png": "[encoded data removed]",
      "text/latex": [
       "$\\displaystyle 0$"
      ],
      "text/plain": [
       "0"
      ]
     },
     "metadata": {},
     "output_type": "display_data"
    },
    {
     "name": "stdout",
     "output_type": "stream",
     "text": [
      "unit check\n"
     ]
    },
    {
     "data": {
      "image/png": "[encoded data removed]",
      "text/latex": [
       "$\\displaystyle 0$"
      ],
      "text/plain": [
       "0"
      ]
     },
     "metadata": {},
     "output_type": "display_data"
    },
    {
     "name": "stdout",
     "output_type": "stream",
     "text": [
      "Try again\n"
     ]
    }
   ],
   "source": [
    "def exercise_2():\n",
    "    \n",
    "    import validate\n",
    "    import importlib\n",
    "    importlib.reload(validate)\n",
    "    \n",
    "    h = sympy.Symbol('h', positive=True) # Planck constant\n",
    "    v = sympy.Symbol('v', positive=True) # Velocity\n",
    "    m = sympy.Symbol('m', positive=True) # Electron mass\n",
    "    q = sympy.Symbol('q', positive=True) # Elementary charge\n",
    "    c = sympy.Symbol('c', positive=True) # Speed of light\n",
    "    n = sympy.Symbol('n', positive=True) # Number density\n",
    "    \n",
    "    # Unit check\n",
    "    mass = sympy.Symbol(r'\\mathcal{M}', positive=True)\n",
    "    length = sympy.Symbol(r'\\mathcal{L}', positive=True)\n",
    "    time = sympy.Symbol(r'\\mathcal{T}', positive=True)\n",
    "    energy = mass*length**2/time**2\n",
    "    unit_check = {h:energy*time,\n",
    "                  v:length/time,\n",
    "                  m:mass,\n",
    "                  q:sympy.sqrt(energy*length),\n",
    "                  c:length/time,\n",
    "                  n:length**-3}\n",
    "    \n",
    "    print(\"a) Due to Heisenberg's uncertainty principle, the minimum distance between the electron and proton cannot\"+\n",
    "          \"drop below the de Broglie wavelength. What is the de Broglie wavelength?\")\n",
    "    answer_a = sympy.Integer(0)\n",
    "    display(answer_a)\n",
    "    print('unit check')\n",
    "    display(answer_a.subs(unit_check))\n",
    "    print(validate.exercise_2_a(answer_a))\n",
    "    \n",
    "    print(\"b) Find the electron's acceleration at the point of closest approach\")\n",
    "    answer_b = sympy.Integer(0)\n",
    "    display(answer_b)\n",
    "    print('unit check')\n",
    "    display(answer_b.subs(unit_check))\n",
    "    print(validate.exercise_2_b(answer_b))\n",
    "    \n",
    "    print(\"c) Find the luminosity at that point\")\n",
    "    answer_c = sympy.Integer(0)\n",
    "    display(answer_c)\n",
    "    print('unit check')\n",
    "    display(answer_c.subs(unit_check))\n",
    "    print(validate.exercise_2_c(answer_c))\n",
    "    \n",
    "    print(\"d) How long does the electron spend close to the proton,\"+\n",
    "          \" i.e. at a distance comparable to the minimal distance?\")\n",
    "    answer_d = sympy.Integer(0)\n",
    "    display(answer_d)\n",
    "    print('unit check')\n",
    "    display(answer_d.subs(unit_check))\n",
    "    print(validate.exercise_2_d(answer_d))\n",
    "    \n",
    "    print(\"e) How much energy is emitted in a single interaction?\")\n",
    "    answer_e = sympy.Integer(0)\n",
    "    display(answer_e)\n",
    "    print('unit check')\n",
    "    display(answer_e.subs(unit_check))\n",
    "    print(validate.exercise_2_e(answer_e))\n",
    "    \n",
    "    print(\"f) What is the cross section for this interaction?\")\n",
    "    answer_f = sympy.Integer(0)\n",
    "    display(answer_f)\n",
    "    print('unit check')\n",
    "    display(answer_f.subs(unit_check))\n",
    "    print(validate.exercise_2_f(answer_f))\n",
    "    \n",
    "    print(\"g) What is the average time interval between consecutive interactions?\")\n",
    "    answer_g = sympy.Integer(0)\n",
    "    display(answer_g)\n",
    "    print('unit check')\n",
    "    display(answer_g.subs(unit_check))\n",
    "    print(validate.exercise_2_g(answer_g))\n",
    "    \n",
    "    print(\"h) What is the average luminosity for a single electron?\")\n",
    "    answer_h = sympy.Integer(0)\n",
    "    display(answer_h)\n",
    "    print('unit check')\n",
    "    display(answer_h.subs(unit_check))\n",
    "    print(validate.exercise_2_g(answer_g))\n",
    "    \n",
    "    print(\"i) What is the emissivity (luminosity per unit volume)?\")\n",
    "    answer_i = sympy.Integer(0)\n",
    "    display(answer_i)\n",
    "    print('unit check')\n",
    "    display(answer_i.subs(unit_check))\n",
    "    print(validate.exercise_2_i(answer_i))\n",
    "    \n",
    "exercise_2()"
   ]
  },
  {
   "cell_type": "markdown",
   "metadata": {},
   "source": [
    "In thermal equilibrium, the velocity is given by the thermal velocity $v \\approx \\sqrt{k T/m}$. Thus we have an expression for the emissivity that only depends on the plasma's density, temperature and physical constants."
   ]
  },
  {
   "cell_type": "markdown",
   "metadata": {},
   "source": [
    "In the next section we will determine the spectrum of free free emission. For this purpose we will consider interactions between electrons and protons with an impact parameter larger than the minimum discussed in the previous question. We denote the impact parametr as $b$, and the thickness of annulus by $\\Delta b \\ll b$. Hint: you can use the expression from the previous section with the substitution $b = h/m v$."
   ]
  },
  {
   "cell_type": "markdown",
   "metadata": {},
   "source": [
    "<img src=\"cross_section_annulus.png\">"
   ]
  },
  {
   "cell_type": "markdown",
   "metadata": {},
   "source": [
    "The luminosity is given by\n",
    "\n",
    "$$ \\Delta L = \\frac{n^2 q^6 \\Delta b}{c^3 m^2 b^2}$$\n",
    "\n",
    "The duration of the emission is $b/v$, the frequency is the reciprocal of the time, so $v/b$, and the photon energy is therefore $h v/b$. The range of frequencies produced by electrons entering the annulus is\n",
    "\n",
    "$\\Delta \\nu \\approx \\frac{v \\Delta b}{b^2}$\n",
    "\n",
    "The luminosity per frequency is\n",
    "\n",
    "$\\frac{\\Delta L}{\\Delta \\nu} \\approx \\frac{n^2 q^6}{c^3 m^2 v}$\n",
    "\n",
    "and so we get a flat spectrum, which cuts off when the photon energy is roughly equal to the kinetic energy of the electron $m v^2$."
   ]
  },
  {
   "cell_type": "markdown",
   "metadata": {},
   "source": [
    "## Compton scattering"
   ]
  },
  {
   "cell_type": "markdown",
   "metadata": {},
   "source": [
    "<img src=\"https://upload.wikimedia.org/wikipedia/commons/thumb/f/f3/CrossSectionFig1.svg/1200px-CrossSectionFig1.svg.png\">"
   ]
  },
  {
   "cell_type": "markdown",
   "metadata": {},
   "source": [
    "Compton scattering is the name given to the scattering of photons by free electrons. In the next exercise we will calculate the cross section for this process. For this purpose, we will consider a slow EM wave with amplitude $E$. The field accelerates the electron, which in turn produces EM radiation. This emitted radiation comes at the expense of the incident wave, and so we get scattering."
   ]
  },
  {
   "cell_type": "code",
   "execution_count": 12,
   "metadata": {},
   "outputs": [
    {
     "name": "stdout",
     "output_type": "stream",
     "text": [
      "a) What is the amplitude of the acceleration of the electron?\n"
     ]
    },
    {
     "data": {
      "image/png": "[encoded data removed]",
      "text/latex": [
       "$\\displaystyle 0$"
      ],
      "text/plain": [
       "0"
      ]
     },
     "metadata": {},
     "output_type": "display_data"
    },
    {
     "name": "stdout",
     "output_type": "stream",
     "text": [
      "Unit check\n"
     ]
    },
    {
     "data": {
      "image/png": "[encoded data removed]",
      "text/latex": [
       "$\\displaystyle 0$"
      ],
      "text/plain": [
       "0"
      ]
     },
     "metadata": {},
     "output_type": "display_data"
    },
    {
     "name": "stdout",
     "output_type": "stream",
     "text": [
      "Try again\n",
      "b) What is the corresponding Larmor luminosity?\n"
     ]
    },
    {
     "data": {
      "image/png": "[encoded data removed]",
      "text/latex": [
       "$\\displaystyle 0$"
      ],
      "text/plain": [
       "0"
      ]
     },
     "metadata": {},
     "output_type": "display_data"
    },
    {
     "name": "stdout",
     "output_type": "stream",
     "text": [
      "Unit check\n"
     ]
    },
    {
     "data": {
      "image/png": "[encoded data removed]",
      "text/latex": [
       "$\\displaystyle 0$"
      ],
      "text/plain": [
       "0"
      ]
     },
     "metadata": {},
     "output_type": "display_data"
    },
    {
     "name": "stdout",
     "output_type": "stream",
     "text": [
      "Try again\n",
      "c) What is the incident flux?\n"
     ]
    },
    {
     "data": {
      "image/png": "[encoded data removed]",
      "text/latex": [
       "$\\displaystyle 0$"
      ],
      "text/plain": [
       "0"
      ]
     },
     "metadata": {},
     "output_type": "display_data"
    },
    {
     "name": "stdout",
     "output_type": "stream",
     "text": [
      "Unit check\n"
     ]
    },
    {
     "data": {
      "image/png": "[encoded data removed]",
      "text/latex": [
       "$\\displaystyle 0$"
      ],
      "text/plain": [
       "0"
      ]
     },
     "metadata": {},
     "output_type": "display_data"
    },
    {
     "name": "stdout",
     "output_type": "stream",
     "text": [
      "Try again\n",
      "d) What is the cross section?\n"
     ]
    },
    {
     "data": {
      "image/png": "[encoded data removed]",
      "text/latex": [
       "$\\displaystyle 0$"
      ],
      "text/plain": [
       "0"
      ]
     },
     "metadata": {},
     "output_type": "display_data"
    },
    {
     "name": "stdout",
     "output_type": "stream",
     "text": [
      "Unit check\n"
     ]
    },
    {
     "data": {
      "image/png": "[encoded data removed]",
      "text/latex": [
       "$\\displaystyle 0$"
      ],
      "text/plain": [
       "0"
      ]
     },
     "metadata": {},
     "output_type": "display_data"
    },
    {
     "name": "stdout",
     "output_type": "stream",
     "text": [
      "Try again\n"
     ]
    }
   ],
   "source": [
    "def exercise_3():\n",
    "    \n",
    "    import validate\n",
    "    import importlib\n",
    "    importlib.reload(validate)\n",
    "    \n",
    "    q = sympy.Symbol('q', positive=True) # Elementary charge\n",
    "    E = sympy.Symbol('E', positive=True) # Amplitude of the EM field\n",
    "    m = sympy.Symbol('m', positive=True) # Mass of the electron\n",
    "    c = sympy.Symbol('c', positive=True) # Speed of light\n",
    "    \n",
    "    # Unit check\n",
    "    mass = sympy.Symbol(r'\\mathcal{M}', positive=True)\n",
    "    length = sympy.Symbol(r'\\mathcal{L}', positive=True)\n",
    "    time = sympy.Symbol(r'\\mathcal{T}', positive=True)\n",
    "    energy = mass*length**2/time**2\n",
    "    charge = sympy.sqrt(energy*length)\n",
    "    unit_check = {q:charge,\n",
    "                  E:charge/length**2,\n",
    "                  m:mass,\n",
    "                  c:length/time}\n",
    "    \n",
    "    print('a) What is the amplitude of the acceleration of the electron?')\n",
    "    answer_a = sympy.Integer(0)\n",
    "    display(answer_a)\n",
    "    print('Unit check')\n",
    "    display(answer_a.subs(unit_check))\n",
    "    print(validate.exercise_3_a(answer_a))\n",
    "    \n",
    "    print('b) What is the corresponding Larmor luminosity?')\n",
    "    answer_b = sympy.Integer(0)\n",
    "    display(answer_b)\n",
    "    print('Unit check')\n",
    "    display(answer_b.subs(unit_check))\n",
    "    print(validate.exercise_3_b(answer_b))\n",
    "    \n",
    "    print('c) What is the incident flux?')\n",
    "    answer_c = sympy.Integer(0)\n",
    "    display(answer_c)\n",
    "    print('Unit check')\n",
    "    display(answer_c.subs(unit_check))\n",
    "    print(validate.exercise_3_c(answer_c))\n",
    "    \n",
    "    print('d) What is the cross section?')\n",
    "    answer_d = sympy.Integer(0)\n",
    "    display(answer_d)\n",
    "    print('Unit check')\n",
    "    display(answer_d.subs(unit_check))\n",
    "    print(validate.exercise_3_d(answer_d))\n",
    "    \n",
    "exercise_3()"
   ]
  },
  {
   "cell_type": "markdown",
   "metadata": {},
   "source": [
    "The last expression is called the Thompson cross section. The cross section for scattering does not depend on the amplitude of the wave or the frequency. The length scale associated with this cross section is called the classical electron radius $r_e = q^2/m c^2$"
   ]
  },
  {
   "cell_type": "markdown",
   "metadata": {},
   "source": [
    "## Blackbody Emission"
   ]
  },
  {
   "cell_type": "markdown",
   "metadata": {},
   "source": [
    "<figure>\n",
    "<img src=\"https://www.researchgate.net/profile/Matteo_Baggioli/publication/308980984/figure/fig3/AS:473944382808067@1490008554778/Fermi-Sphere-and-Fermi-Surface.png\">\n",
    "<figcaption>Illustration of the density of state</figcaption>\n",
    "</figure>"
   ]
  },
  {
   "cell_type": "markdown",
   "metadata": {},
   "source": [
    "<figure>\n",
    "<img src=\"https://www.e-education.psu.edu/astro801/sites/www.e-education.psu.edu.astro801/files/image/Lesson%203/648px-Wiens_law_svg.png\">\n",
    "<figcaption>Blackbody spectrum</figcaption>\n",
    "</figure>"
   ]
  },
  {
   "cell_type": "markdown",
   "metadata": {},
   "source": [
    "In this section we discuss [blackbody emission](https://en.wikipedia.org/wiki/Black-body_radiation). In this section we present a simplified derivation for the low end of the spectrum, also known as the Rayleigh Jeans tail. This is largely based on the derivation [here](http://hyperphysics.phy-astr.gsu.edu/hbase/quantum/rayj.html)."
   ]
  },
  {
   "cell_type": "code",
   "execution_count": 20,
   "metadata": {},
   "outputs": [
    {
     "name": "stdout",
     "output_type": "stream",
     "text": [
      "a) What is the wavelength?\n"
     ]
    },
    {
     "data": {
      "image/png": "[encoded data removed]",
      "text/latex": [
       "$\\displaystyle 0$"
      ],
      "text/plain": [
       "0"
      ]
     },
     "metadata": {},
     "output_type": "display_data"
    },
    {
     "name": "stdout",
     "output_type": "stream",
     "text": [
      "unit check\n"
     ]
    },
    {
     "data": {
      "image/png": "[encoded data removed]",
      "text/latex": [
       "$\\displaystyle 0$"
      ],
      "text/plain": [
       "0"
      ]
     },
     "metadata": {},
     "output_type": "display_data"
    },
    {
     "name": "stdout",
     "output_type": "stream",
     "text": [
      "Try again\n",
      "b) According to the equipartition theorem, in equilibrium every degree of freedom gets an energy comparable to kT.When considering a waves of a certain wavelength, assume you can divid space into cubes whose side is comparable to the wavelength, and each is a degree of freedom. What is the energy density?\n"
     ]
    },
    {
     "data": {
      "image/png": "[encoded data removed]",
      "text/latex": [
       "$\\displaystyle 0$"
      ],
      "text/plain": [
       "0"
      ]
     },
     "metadata": {},
     "output_type": "display_data"
    },
    {
     "name": "stdout",
     "output_type": "stream",
     "text": [
      "unit check\n"
     ]
    },
    {
     "data": {
      "image/png": "[encoded data removed]",
      "text/latex": [
       "$\\displaystyle 0$"
      ],
      "text/plain": [
       "0"
      ]
     },
     "metadata": {},
     "output_type": "display_data"
    },
    {
     "name": "stdout",
     "output_type": "stream",
     "text": [
      "Try again\n",
      "c) What is the flux per unit frequency?\n"
     ]
    },
    {
     "data": {
      "image/png": "[encoded data removed]",
      "text/latex": [
       "$\\displaystyle 0$"
      ],
      "text/plain": [
       "0"
      ]
     },
     "metadata": {},
     "output_type": "display_data"
    },
    {
     "name": "stdout",
     "output_type": "stream",
     "text": [
      "unit check\n"
     ]
    },
    {
     "data": {
      "image/png": "[encoded data removed]",
      "text/latex": [
       "$\\displaystyle 0$"
      ],
      "text/plain": [
       "0"
      ]
     },
     "metadata": {},
     "output_type": "display_data"
    },
    {
     "name": "stdout",
     "output_type": "stream",
     "text": [
      "Try again\n"
     ]
    }
   ],
   "source": [
    "def exercise_4():\n",
    "    \n",
    "    import validate\n",
    "    import importlib\n",
    "    importlib.reload(validate)\n",
    "    \n",
    "    nu = sympy.Symbol('nu', positive=True) # Frequency\n",
    "    c = sympy.Symbol('c', positive=True) # Speed of light\n",
    "    kT = sympy.Symbol('kT', positive=True) # Temperature\n",
    "    \n",
    "    # Unit check\n",
    "    mass = sympy.Symbol(r'\\mathcal{M}', positive=True)\n",
    "    length = sympy.Symbol(r'\\mathcal{L}', positive=True)\n",
    "    time = sympy.Symbol(r'\\mathcal{T}', positive=True)\n",
    "    energy = mass*length**2/time**2\n",
    "    unit_check = {nu:1/time,\n",
    "                  c:length/time,\n",
    "                  kT:energy}\n",
    "    \n",
    "    print('a) What is the wavelength?')\n",
    "    answer_a = sympy.Integer(0)\n",
    "    display(answer_a)\n",
    "    print('unit check')\n",
    "    display(answer_a.subs(unit_check))\n",
    "    print(validate.exercise_4_a(answer_a))\n",
    "    \n",
    "    print('b) According to the equipartition theorem, in equilibrium '+\n",
    "          'every degree of freedom gets an energy comparable to kT.'+\n",
    "          'When considering a waves of a certain wavelength, '+\n",
    "          'assume you can divid space into cubes whose side is comparable to the wavelength, '+\n",
    "          'and each is a degree of freedom. What is the energy density?')\n",
    "    answer_b = sympy.Integer(0)\n",
    "    display(answer_b)\n",
    "    print('unit check')\n",
    "    display(answer_b.subs(unit_check))\n",
    "    print(validate.exercise_4_b(answer_b))\n",
    "    \n",
    "    print('c) What is the flux per unit frequency?')\n",
    "    answer_c = sympy.Integer(0)\n",
    "    display(answer_c)\n",
    "    print('unit check')\n",
    "    display(answer_c.subs(unit_check))\n",
    "    print(validate.exercise_4_c(answer_c))\n",
    "    \n",
    "exercise_4()"
   ]
  },
  {
   "cell_type": "markdown",
   "metadata": {},
   "source": [
    "The last relation is called the Rayleigh Jeans tail. This spectrum increases indefinitely with frequency (ultraviolet catastrophy). In reality, the spectrum is truncated when the photon energy is comparable to the thermal energy $h \\nu \\approx k T$. By integrating over $\\nu$ from $0$ to $kT/h$ we get the Stefan Boltzmann law\n",
    "\n",
    "$$ f \\approx \\int_0^{kT/h} k T \\frac{\\nu^2}{c^2} d\\nu \\approx \\frac{k^4 T^4}{c^2 h^3}$$\n",
    "\n",
    "We also note that from the results above it is possible to find the blackbody energy density \n",
    "\n",
    "$$ k T \\frac{\\nu^3}{c^3} |_{\\nu = k T/h} = \\frac{k^4 T^4}{h^3 c^3} $$"
   ]
  },
  {
   "cell_type": "markdown",
   "metadata": {},
   "source": [
    "## Detailed Balance and Kramer's Opacity"
   ]
  },
  {
   "cell_type": "markdown",
   "metadata": {},
   "source": [
    "So far we've only discussed processes that emit photons and scatter them, but not processes that absorb them. The absorption coefficient $\\alpha_{\\nu}$ can be determined from the emissivity $\\varepsilon_{\\nu}$ using the principle of detailed balance. According to this principle, in equilibrium the number of photons created in a certain frequency must equal to the number of photons absorbed in this frequency, to maintain a constant, blackbody flux per unit frequency $B_{\\nu}$.\n",
    "\n",
    "$$\\varepsilon_{\\nu} = \\alpha_{\\nu} B_{\\nu} \\Rightarrow \\alpha_{\\nu} = \\varepsilon_{\\nu} / B_{\\nu}$$\n",
    "\n",
    "In the literature, the opacity $\\kappa$ is sometimes used instead of absorption coefficient, and the relation between them is $\\alpha = \\kappa \\rho$ where $\\rho$ is the mass density. The units of the absorption coefficients are 1/length, and for opacity the units are length^2/mass."
   ]
  },
  {
   "cell_type": "code",
   "execution_count": 22,
   "metadata": {},
   "outputs": [
    {
     "name": "stdout",
     "output_type": "stream",
     "text": [
      "a) Using the principle of detailed balance, find the coefficient of free - free absorption\n"
     ]
    },
    {
     "data": {
      "image/png": "[encoded data removed]",
      "text/latex": [
       "$\\displaystyle 0$"
      ],
      "text/plain": [
       "0"
      ]
     },
     "metadata": {},
     "output_type": "display_data"
    },
    {
     "name": "stdout",
     "output_type": "stream",
     "text": [
      "unit check\n"
     ]
    },
    {
     "data": {
      "image/png": "[encoded data removed]",
      "text/latex": [
       "$\\displaystyle 0$"
      ],
      "text/plain": [
       "0"
      ]
     },
     "metadata": {},
     "output_type": "display_data"
    },
    {
     "name": "stdout",
     "output_type": "stream",
     "text": [
      "Try again\n",
      "b) Find the average absorption coefficient when the photon energy is comparable to the thermal energy\n"
     ]
    },
    {
     "data": {
      "image/png": "[encoded data removed]",
      "text/latex": [
       "$\\displaystyle 0$"
      ],
      "text/plain": [
       "0"
      ]
     },
     "metadata": {},
     "output_type": "display_data"
    },
    {
     "name": "stdout",
     "output_type": "stream",
     "text": [
      "unit check\n"
     ]
    },
    {
     "data": {
      "image/png": "[encoded data removed]",
      "text/latex": [
       "$\\displaystyle 0$"
      ],
      "text/plain": [
       "0"
      ]
     },
     "metadata": {},
     "output_type": "display_data"
    },
    {
     "name": "stdout",
     "output_type": "stream",
     "text": [
      "Try again\n",
      "c) Find the average free free absorption cross section\n"
     ]
    },
    {
     "data": {
      "image/png": "[encoded data removed]",
      "text/latex": [
       "$\\displaystyle 0$"
      ],
      "text/plain": [
       "0"
      ]
     },
     "metadata": {},
     "output_type": "display_data"
    },
    {
     "name": "stdout",
     "output_type": "stream",
     "text": [
      "unit check\n"
     ]
    },
    {
     "data": {
      "image/png": "[encoded data removed]",
      "text/latex": [
       "$\\displaystyle 0$"
      ],
      "text/plain": [
       "0"
      ]
     },
     "metadata": {},
     "output_type": "display_data"
    },
    {
     "name": "stdout",
     "output_type": "stream",
     "text": [
      "Try again\n",
      "d) Find the temperature at which the free free cross section is equal to the Thompson cross section\n"
     ]
    },
    {
     "data": {
      "image/png": "[encoded data removed]",
      "text/latex": [
       "$\\displaystyle 0$"
      ],
      "text/plain": [
       "0"
      ]
     },
     "metadata": {},
     "output_type": "display_data"
    },
    {
     "name": "stdout",
     "output_type": "stream",
     "text": [
      "unit check\n"
     ]
    },
    {
     "data": {
      "image/png": "[encoded data removed]",
      "text/latex": [
       "$\\displaystyle 0$"
      ],
      "text/plain": [
       "0"
      ]
     },
     "metadata": {},
     "output_type": "display_data"
    },
    {
     "name": "stdout",
     "output_type": "stream",
     "text": [
      "Try again\n"
     ]
    }
   ],
   "source": [
    "def exercise_5():\n",
    "    \n",
    "    import validate\n",
    "    import importlib\n",
    "    importlib.reload(validate)\n",
    "\n",
    "    n = sympy.Symbol('n', positive=True) # Number density\n",
    "    q = sympy.Symbol('q', positive=True) # Elementary charge\n",
    "    m = sympy.Symbol('m', positive=True) # Electron mass\n",
    "    kT = sympy.Symbol('kT', positive=True) # Temperature\n",
    "    c = sympy.Symbol('c', positive=True) # Speed of light\n",
    "    nu = sympy.Symbol('nu', positive=True) # Frequency\n",
    "    h = sympy.Symbol('h', positive=True) # Planck constant\n",
    "    \n",
    "    # Unit check\n",
    "    mass = sympy.Symbol(r'\\mathcal{M}', positive=True)\n",
    "    length = sympy.Symbol(r'\\mathcal{L}', positive=True)\n",
    "    time = sympy.Symbol(r'\\mathcal{T}', positive=True)\n",
    "    energy = mass*length**2/time**2\n",
    "    unit_check = {nu:1/time,\n",
    "                  c:length/time,\n",
    "                  kT:energy,\n",
    "                  n:length**-3,\n",
    "                  q:sympy.sqrt(mass*length**3/time**2),\n",
    "                  m:mass,\n",
    "                  h:mass*length**2/time}\n",
    "    \n",
    "    # For unit check\n",
    "    length = sympy.Symbol(r'\\mathcal{L}', positive=True) # Length unit\n",
    "    mass = sympy.Symbol(r'\\mathcal{M}', positive=True) # Mass unit\n",
    "    time = sympy.Symbol(r'\\mathcal{T}', positive=True) # Time unit\n",
    "    \n",
    "    print('a) Using the principle of detailed balance, find the coefficient of free - free absorption')\n",
    "    emissivity = n**2*q**6*sympy.sqrt(m/kT)/c**3/m**2\n",
    "    blackbody = kT*nu**2/c**2\n",
    "    answer_a = sympy.Integer(0)\n",
    "    display(answer_a)\n",
    "    print('unit check')\n",
    "    display(answer_a.subs(unit_check))\n",
    "    print(validate.exercise_5_a(answer_a))\n",
    "    \n",
    "    print('b) Find the average absorption coefficient when the photon energy is comparable to the thermal energy')\n",
    "    answer_b = sympy.Integer(0)\n",
    "    display(answer_b)\n",
    "    print('unit check')\n",
    "    display(answer_b.subs(unit_check))\n",
    "    print(validate.exercise_5_b(answer_b))\n",
    "    \n",
    "    print('c) Find the average free free absorption cross section')\n",
    "    answer_c = sympy.Integer(0)\n",
    "    display(answer_c)\n",
    "    print('unit check')\n",
    "    display(answer_c.subs(unit_check))\n",
    "    print(validate.exercise_5_c(answer_c))\n",
    "    \n",
    "    print('d) Find the temperature at which the free free cross section is equal to the Thompson cross section')\n",
    "    answer_d = sympy.Integer(0)\n",
    "    display(answer_d)\n",
    "    print('unit check')\n",
    "    display(answer_d.subs(unit_check))\n",
    "    print(validate.exercise_5_d(answer_d))\n",
    "\n",
    "exercise_5()"
   ]
  },
  {
   "cell_type": "markdown",
   "metadata": {},
   "source": [
    "We found that the average absorption coefficient scales as $T^{-7/2}$. This is known as [Kramer's opacity law](https://en.wikipedia.org/wiki/Kramers%27_opacity_law). We also found the condition for which this absorption will dominate over Compton scattering. Finally, we note that although this process is technically absorption, by which a photon disappears, if the medium is opaque and hot then the energy absorbed will be promptly re - emitted. In such a case, absorption behaves just the same as scattering."
   ]
  },
  {
   "cell_type": "markdown",
   "metadata": {},
   "source": [
    "To conclude, in this part we reviewed different continuum radiative processes (i.e. ones not involving lines and atomic or molecular structure). In the next section we will use them to analyse the structure of stars and explain some of the observed trends."
   ]
  },
  {
   "cell_type": "markdown",
   "metadata": {},
   "source": [
    "# End of Part 1"
   ]
  },
  {
   "cell_type": "markdown",
   "metadata": {},
   "source": [
    "<br>\n",
    "\n",
    "<br>\n",
    "\n",
    "<br>\n",
    "\n",
    "<br>\n",
    "\n",
    "<br>\n",
    "\n",
    "<br>"
   ]
  },
  {
   "cell_type": "markdown",
   "metadata": {},
   "source": [
    "# Stellar Structure and Evolution"
   ]
  },
  {
   "cell_type": "markdown",
   "metadata": {},
   "source": [
    "## Main Sequence Stars"
   ]
  },
  {
   "cell_type": "markdown",
   "metadata": {},
   "source": [
    "Stars are supported against gravity by thermal or radiation pressure\n",
    "\n",
    "$$ p \\approx \\frac{G M^2}{R^4}$$\n",
    "\n",
    "The balance between gravity and thermal pressure is called hydrostatic equilibrium. The high temperature necessary to produce this pressure ($T_c \\approx 10^7 \\rm K$) is maintained through thermonuclear burning. These nuclear reactions are so sensitive to the temperature, that to a crude approximation one might assume that the core temperature is roughly constant. Outside the star the temperature is only a few thousand degrees. The temperature gradient is maintained due to photon diffusion.\n",
    "\n",
    "Given an absorption coefficient $\\alpha$ (units: reciprocal of length), the mean free path is $1/\\alpha$. Without diffusion, the time it takes a photon to leave the star is just the light crossing time $R/c$. With diffusion, the photon goes back and forth and travels a much larger distance $\\alpha R^2$, and so the time the photon spends inside the star is $t_d \\approx \\alpha R^2/c$. A commonly used quantity is the optical depth $\\tau \\approx \\alpha R$. The radiative energy in the star is \n",
    "\n",
    "$$U \\approx R^3 k^4 T_c^4/h^3 c^3$$ \n",
    "\n",
    "and so the luminosity is\n",
    "\n",
    "$$L \\approx \\frac{U}{t_d}$$"
   ]
  },
  {
   "cell_type": "markdown",
   "metadata": {},
   "source": [
    "In the next exercise we explore the properties of stars with different properties"
   ]
  },
  {
   "cell_type": "code",
   "execution_count": 23,
   "metadata": {},
   "outputs": [
    {
     "name": "stdout",
     "output_type": "stream",
     "text": [
      "a) Use the condition of hydrostatic equilibrium to obtain an expression for the radius of a gas dominated star\n"
     ]
    },
    {
     "data": {
      "image/png": "[encoded data removed]",
      "text/latex": [
       "$\\displaystyle 0$"
      ],
      "text/plain": [
       "0"
      ]
     },
     "metadata": {},
     "output_type": "display_data"
    },
    {
     "name": "stdout",
     "output_type": "stream",
     "text": [
      "fiducial values\n"
     ]
    },
    {
     "data": {
      "image/png": "[encoded data removed]",
      "text/latex": [
       "$\\displaystyle 0$"
      ],
      "text/plain": [
       "0"
      ]
     },
     "metadata": {},
     "output_type": "display_data"
    },
    {
     "name": "stdout",
     "output_type": "stream",
     "text": [
      "Try again\n",
      "b) Estimate the diffusion time assuming Kramer's mean opacity\n"
     ]
    },
    {
     "data": {
      "image/png": "[encoded data removed]",
      "text/latex": [
       "$\\displaystyle 0$"
      ],
      "text/plain": [
       "0"
      ]
     },
     "metadata": {},
     "output_type": "display_data"
    },
    {
     "name": "stdout",
     "output_type": "stream",
     "text": [
      "fiducial values\n"
     ]
    },
    {
     "data": {
      "image/png": "[encoded data removed]",
      "text/latex": [
       "$\\displaystyle 0$"
      ],
      "text/plain": [
       "0"
      ]
     },
     "metadata": {},
     "output_type": "display_data"
    },
    {
     "name": "stdout",
     "output_type": "stream",
     "text": [
      "Try again\n",
      "c) Find the luminosity of the star\n"
     ]
    },
    {
     "data": {
      "image/png": "[encoded data removed]",
      "text/latex": [
       "$\\displaystyle 0$"
      ],
      "text/plain": [
       "0"
      ]
     },
     "metadata": {},
     "output_type": "display_data"
    },
    {
     "name": "stdout",
     "output_type": "stream",
     "text": [
      "fiducial_values\n"
     ]
    },
    {
     "data": {
      "image/png": "[encoded data removed]",
      "text/latex": [
       "$\\displaystyle 0$"
      ],
      "text/plain": [
       "0"
      ]
     },
     "metadata": {},
     "output_type": "display_data"
    },
    {
     "name": "stdout",
     "output_type": "stream",
     "text": [
      "Try again\n",
      "d) What would be the diffusion time for Thompson opacity instead\n"
     ]
    },
    {
     "data": {
      "image/png": "[encoded data removed]",
      "text/latex": [
       "$\\displaystyle 0$"
      ],
      "text/plain": [
       "0"
      ]
     },
     "metadata": {},
     "output_type": "display_data"
    },
    {
     "name": "stdout",
     "output_type": "stream",
     "text": [
      "fiducial values\n"
     ]
    },
    {
     "data": {
      "image/png": "[encoded data removed]",
      "text/latex": [
       "$\\displaystyle 0$"
      ],
      "text/plain": [
       "0"
      ]
     },
     "metadata": {},
     "output_type": "display_data"
    },
    {
     "name": "stdout",
     "output_type": "stream",
     "text": [
      "Try again\n",
      "e) What is the luminosity for Thompson opacity\n"
     ]
    },
    {
     "data": {
      "image/png": "[encoded data removed]",
      "text/latex": [
       "$\\displaystyle 0$"
      ],
      "text/plain": [
       "0"
      ]
     },
     "metadata": {},
     "output_type": "display_data"
    },
    {
     "name": "stdout",
     "output_type": "stream",
     "text": [
      "fiducial values\n"
     ]
    },
    {
     "data": {
      "image/png": "[encoded data removed]",
      "text/latex": [
       "$\\displaystyle 0$"
      ],
      "text/plain": [
       "0"
      ]
     },
     "metadata": {},
     "output_type": "display_data"
    },
    {
     "name": "stdout",
     "output_type": "stream",
     "text": [
      "Try again\n",
      "f) Find the radius of a radiation dominated star\n"
     ]
    },
    {
     "data": {
      "image/png": "[encoded data removed]",
      "text/latex": [
       "$\\displaystyle 0$"
      ],
      "text/plain": [
       "0"
      ]
     },
     "metadata": {},
     "output_type": "display_data"
    },
    {
     "name": "stdout",
     "output_type": "stream",
     "text": [
      "fiducial values\n"
     ]
    },
    {
     "data": {
      "image/png": "[encoded data removed]",
      "text/latex": [
       "$\\displaystyle 0$"
      ],
      "text/plain": [
       "0"
      ]
     },
     "metadata": {},
     "output_type": "display_data"
    },
    {
     "name": "stdout",
     "output_type": "stream",
     "text": [
      "Try again\n",
      "g) Find the diffusion time from a radiation dominated star with Thompson opacity\n"
     ]
    },
    {
     "data": {
      "image/png": "[encoded data removed]",
      "text/latex": [
       "$\\displaystyle 0$"
      ],
      "text/plain": [
       "0"
      ]
     },
     "metadata": {},
     "output_type": "display_data"
    },
    {
     "name": "stdout",
     "output_type": "stream",
     "text": [
      "fiducial values\n"
     ]
    },
    {
     "data": {
      "image/png": "[encoded data removed]",
      "text/latex": [
       "$\\displaystyle 0$"
      ],
      "text/plain": [
       "0"
      ]
     },
     "metadata": {},
     "output_type": "display_data"
    },
    {
     "name": "stdout",
     "output_type": "stream",
     "text": [
      "Try again\n",
      "h) Find the luminosity of a radiation dominated star with Thompson opacity\n"
     ]
    },
    {
     "data": {
      "image/png": "[encoded data removed]",
      "text/latex": [
       "$\\displaystyle 0$"
      ],
      "text/plain": [
       "0"
      ]
     },
     "metadata": {},
     "output_type": "display_data"
    },
    {
     "name": "stdout",
     "output_type": "stream",
     "text": [
      "fiducial values\n"
     ]
    },
    {
     "data": {
      "image/png": "[encoded data removed]",
      "text/latex": [
       "$\\displaystyle 0$"
      ],
      "text/plain": [
       "0"
      ]
     },
     "metadata": {},
     "output_type": "display_data"
    },
    {
     "name": "stdout",
     "output_type": "stream",
     "text": [
      "Try again\n",
      "i) Above what mass does the Thompson optical depth exceed Kramersfor a gas dominated stars?\n"
     ]
    },
    {
     "data": {
      "image/png": "[encoded data removed]",
      "text/latex": [
       "$\\displaystyle 0$"
      ],
      "text/plain": [
       "0"
      ]
     },
     "metadata": {},
     "output_type": "display_data"
    },
    {
     "name": "stdout",
     "output_type": "stream",
     "text": [
      "fiducial values\n"
     ]
    },
    {
     "data": {
      "image/png": "[encoded data removed]",
      "text/latex": [
       "$\\displaystyle 0$"
      ],
      "text/plain": [
       "0"
      ]
     },
     "metadata": {},
     "output_type": "display_data"
    },
    {
     "name": "stdout",
     "output_type": "stream",
     "text": [
      "Try again\n",
      "j) Above what mass does the star become radiation dominated?\n"
     ]
    },
    {
     "data": {
      "image/png": "[encoded data removed]",
      "text/latex": [
       "$\\displaystyle 0$"
      ],
      "text/plain": [
       "0"
      ]
     },
     "metadata": {},
     "output_type": "display_data"
    },
    {
     "name": "stdout",
     "output_type": "stream",
     "text": [
      "fiducial values\n"
     ]
    },
    {
     "data": {
      "image/png": "[encoded data removed]",
      "text/latex": [
       "$\\displaystyle 0$"
      ],
      "text/plain": [
       "0"
      ]
     },
     "metadata": {},
     "output_type": "display_data"
    },
    {
     "name": "stdout",
     "output_type": "stream",
     "text": [
      "Try again\n"
     ]
    }
   ],
   "source": [
    "def exercise_6():\n",
    "    \n",
    "    import validate\n",
    "    import importlib\n",
    "    importlib.reload(validate)\n",
    "    \n",
    "    kT_c = sympy.Symbol('kT_c', positive=True) # Core temperature\n",
    "    G = sympy.Symbol('G', positive=True) # Gravitation constant\n",
    "    M = sympy.Symbol('M', positive=True) # Mass of the star\n",
    "    m_p = sympy.Symbol('m_p', positive=True) # Proton mass\n",
    "    m_e = sympy.Symbol('m_e', positive=True) # Electron mass\n",
    "    h = sympy.Symbol('h', positive=True) # Planck constant\n",
    "    q = sympy.Symbol('q', positive=True) # Elementary charge\n",
    "    c = sympy.Symbol('c', positive=True) # Speed of light\n",
    "    \n",
    "    # Unit check\n",
    "    mass = sympy.Symbol(r'\\mathcal{M}', positive=True)\n",
    "    length = sympy.Symbol(r'\\mathcal{L}', positive=True)\n",
    "    time = sympy.Symbol(r'\\mathcal{T}', positive=True)\n",
    "    energy = mass*length**2/time**2\n",
    "    unit_check = {G:energy*length/mass**2,\n",
    "                  m_p:mass,\n",
    "                  M:mass,\n",
    "                  kT_c:energy,\n",
    "                  q:sympy.sqrt(energy*length),\n",
    "                  h:energy*time,\n",
    "                  m_e:mass,\n",
    "                  c:length/time}\n",
    "    \n",
    "    # Fiducial values\n",
    "    gram = sympy.Symbol(r'\\rm gram', positive=True)\n",
    "    cm = sympy.Symbol(r'\\rm cm', positive=True)\n",
    "    second = sympy.Symbol(r'\\rm second', positive=True)\n",
    "    erg = gram*(cm/second)**2\n",
    "    fiducial_values = {G:6.7e-8*cm**3/gram/second**2,\n",
    "                       m_p:1.7e-24*gram,\n",
    "                       M:2e33*gram,\n",
    "                       kT_c:1.4e-9*erg,\n",
    "                       q:4.8e-10*sympy.sqrt(erg*cm),\n",
    "                       h:6.6e-27*erg*second,\n",
    "                       m_e:9e-28*gram,\n",
    "                       c:3e10*cm/second}\n",
    "    solar_radius = 7e10*cm\n",
    "    solar_luminosity = 1e33*erg/second\n",
    "    solar_mass = 2e33*gram\n",
    "    R_odot = sympy.Symbol(r'R_{\\odot}', positive=True) # Solar radius\n",
    "    L_odot = sympy.Symbol(r'L_{\\odot}', positive=True) # Solar luminosity\n",
    "    M_odot = sympy.Symbol(r'M_{\\odot}', positive=True) # Solar mass\n",
    "    year = sympy.Symbol(r'\\rm year', positive=True)\n",
    "    \n",
    "    print('a) Use the condition of hydrostatic equilibrium to obtain an expression for the radius of a' +\n",
    "           ' gas dominated star')\n",
    "    answer_a = sympy.Integer(0)\n",
    "    display(answer_a)\n",
    "    print('fiducial values')\n",
    "    display(answer_a.subs(fiducial_values)*R_odot/solar_radius)\n",
    "    print(validate.exercise_6_a(answer_a))\n",
    "    \n",
    "    print(\"b) Estimate the diffusion time assuming Kramer's mean opacity\")\n",
    "    answer_b = sympy.Integer(0)\n",
    "    display(answer_b)\n",
    "    print('fiducial values')\n",
    "    display(answer_b.subs(fiducial_values)*year/1e7/second)\n",
    "    print(validate.exercise_6_b(answer_b))\n",
    "    \n",
    "    print('c) Find the luminosity of the star')\n",
    "    answer_c = sympy.Integer(0)\n",
    "    display(answer_c)\n",
    "    print('fiducial_values')\n",
    "    display(answer_c.subs(fiducial_values)*L_odot/solar_luminosity)\n",
    "    print(validate.exercise_6_c(answer_c))\n",
    "    \n",
    "    print('d) What would be the diffusion time for Thompson opacity instead')\n",
    "    answer_d = sympy.Integer(0)\n",
    "    display(answer_d)\n",
    "    print('fiducial values')\n",
    "    display(answer_d.subs(fiducial_values)*year/1e7/second)\n",
    "    print(validate.exercise_6_d(answer_d))\n",
    "    \n",
    "    print('e) What is the luminosity for Thompson opacity')\n",
    "    answer_e = sympy.Integer(0)\n",
    "    display(answer_e)\n",
    "    print('fiducial values')\n",
    "    display(answer_e.subs(fiducial_values)*L_odot/solar_luminosity)\n",
    "    print(validate.exercise_6_e(answer_e))\n",
    "    \n",
    "    print('f) Find the radius of a radiation dominated star')\n",
    "    answer_f= sympy.Integer(0)\n",
    "    display(answer_f)\n",
    "    print('fiducial values')\n",
    "    display(answer_f.subs(fiducial_values)*R_odot/solar_radius)\n",
    "    print(validate.exercise_6_f(answer_f))\n",
    "    \n",
    "    print('g) Find the diffusion time from a radiation dominated star with Thompson opacity')\n",
    "    answer_g = sympy.Integer(0)\n",
    "    display(answer_g)\n",
    "    print('fiducial values')\n",
    "    display(answer_g.subs(fiducial_values)*year/1e7/second)\n",
    "    print(validate.exercise_6_g(answer_g))\n",
    "    \n",
    "    print('h) Find the luminosity of a radiation dominated star with Thompson opacity')\n",
    "    answer_h = sympy.Integer(0)\n",
    "    display(answer_h)\n",
    "    print('fiducial values')\n",
    "    display(answer_h.subs(fiducial_values)*L_odot/solar_luminosity)\n",
    "    print(validate.exercise_6_h(answer_h))\n",
    "    \n",
    "    print('i) Above what mass does the Thompson optical depth exceed Kramersfor a gas dominated stars?')\n",
    "    answer_i = sympy.Integer(0)\n",
    "    display(answer_i)\n",
    "    print('fiducial values')\n",
    "    display(answer_i.subs(fiducial_values)/solar_mass*M_odot)\n",
    "    print(validate.exercise_6_i(answer_i))\n",
    "    \n",
    "    print('j) Above what mass does the star become radiation dominated?')\n",
    "    answer_j = sympy.Integer(0)\n",
    "    display(answer_j)\n",
    "    print('fiducial values')\n",
    "    display(answer_j.subs(fiducial_values)*M_odot/solar_mass)\n",
    "    print(validate.exercise_6_j(answer_j))\n",
    "    \n",
    "exercise_6()"
   ]
  },
  {
   "cell_type": "markdown",
   "metadata": {},
   "source": [
    "As we can see, the approximations used here are only accurate within a factor of a few. We can estimate this accuracy by comparison of the calculated luminosity and radius to those of our sun. Then again, considering how simplistic our treatment is, it is impressive that we got this close. Most importantly, we neglected the actual structure of the star. Since the star can have very different properties in different regions, different processes can be dominant in different regions. In our analysis we also neglected the structure of the star, turbulence, rotation, magnetic field etc.\n",
    "\n",
    "We also reproduce some observational trends (e.g. [Demircan & Kahraman 1991](http://articles.adsabs.harvard.edu/pdf/1991Ap%26SS.181..313D)). Below a few solar masses the luminosity scales with mass as $L \\propto M^5$, between a few and a few tens $L \\propto M^3$ and at even higher masses $L \\propto M$. In reality the transition will be gradual because parts of the star might be in different regimes. The lifetimes of stars roughly scales as $M/L$, so the lifetime decreases very steeply with mass, until it reaches some critical value around a few million years, at which point the mass to luminosity ratio becomes constant. This timescale is sometimes called the Eddington time.\n",
    "\n",
    "The linear relation between luminosity and mass we obtained for massive stars has a deeper meaning. This is the highest luminosity the star can sustain. A higher luminosity will unbind material from the star. This is called Eddington's luminosity."
   ]
  },
  {
   "cell_type": "markdown",
   "metadata": {},
   "source": [
    "<img src=\"https://www.researchgate.net/profile/Edgars_Alksnis/publication/319643592/figure/fig1/AS:537884915453952@1505253165836/Stellar-mass-luminosity-relation-Credit-Ay20-L-luminosity-relative-to-the-Sun_W640.jpg\" alt=\"https://www.researchgate.net/publication/319643592_Basics_of_astrophysics_revisited_I_Mass-luminosity_relation_for_K_M_and_G_class_stars/figures?lo=1\">"
   ]
  },
  {
   "cell_type": "markdown",
   "metadata": {},
   "source": [
    "At the very low end of the mass spectrum the data points deviate from the steep profile we predicted. This is because for low mass stars the radiative energy does not diffuse, but is rather advected by turbulence. As a very crude approximation, one can assume that the timescale for advecting the radiative energy is comparable to the Keplerian timescale, so \n",
    "\n",
    "$$t \\propto \\sqrt{R^3/M}$$\n",
    "\n",
    "$$R \\propto M$$\n",
    "\n",
    "$$U \\propto R^3$$\n",
    "\n",
    "$$L \\approx \\frac{U}{t} \\propto R^{3/2} M^{1/2} \\propto M^2$$"
   ]
  },
  {
   "cell_type": "markdown",
   "metadata": {},
   "source": [
    "<img src=\"mass_radius_relation.png\" alt=\"Demircan & Kahraman 1991\">"
   ]
  },
  {
   "cell_type": "markdown",
   "metadata": {},
   "source": [
    "We can also use the Blackbody formulae to find the surface temperature dependence on mass or luminosity\n",
    "\n",
    "Low masses\n",
    "\n",
    "$$ R \\propto M, L \\propto M^2 \\Rightarrow T \\propto \\left(L/R^2\\right)^{1/4} \\propto M^0 \\propto L^{0}$$\n",
    "\n",
    "Medium masses\n",
    "\n",
    "$$ R \\propto M, L \\propto M^5 \\Rightarrow T \\propto \\left(L/R^2\\right)^{1/4} \\propto M^{3/4} \\propto L^{3/20}$$\n",
    "\n",
    "High masses\n",
    "\n",
    "$$ R \\propto M, L \\propto M^3 \\Rightarrow T \\propto \\left(L/R^2\\right)^{1/4} \\propto M^{1/4} \\propto L^{1/12}$$\n",
    "\n",
    "Very high masses\n",
    "\n",
    "$$ R \\propto M^{1/2}, L \\propto M \\Rightarrow T \\propto \\left(L/R^2\\right)^{1/4} \\propto M^{0} \\propto L^{0}$$\n",
    "\n",
    "Some of these trends can be seen in the famous [HR diagram](https://en.wikipedia.org/wiki/Hertzsprung%E2%80%93Russell_diagram)"
   ]
  },
  {
   "cell_type": "markdown",
   "metadata": {},
   "source": [
    "<img src=\"https://upload.wikimedia.org/wikipedia/commons/thumb/1/17/Hertzsprung-Russel_StarData.png/800px-Hertzsprung-Russel_StarData.png\">"
   ]
  },
  {
   "cell_type": "markdown",
   "metadata": {},
   "source": [
    "## Minimum Stellar Mass"
   ]
  },
  {
   "cell_type": "markdown",
   "metadata": {},
   "source": [
    "In the next exercise we will consider the minimum mass of a star. Stars form from gravitationally collapsing gas clouds. If the clouds are massive enough the collapse triggers thermonuclear reactions that in turn produce thermal pressure that halts the collapse. If the clouds are not massive enough, electron degeneracy pressure halts the collpase and the object never gets hot enough to trigger a significant amount of thermonuclear burning. Such objects are called brown dwarfs. We start this exercise by analysing the properties of an object supported by electron degeneracy pressure, starting from the Heisenberg uncertainty principle $\\Delta x \\cdot \\Delta p \\ge h$"
   ]
  },
  {
   "cell_type": "code",
   "execution_count": 25,
   "metadata": {},
   "outputs": [
    {
     "name": "stdout",
     "output_type": "stream",
     "text": [
      "a) Given the number density n, what is the average distance between particles?\n"
     ]
    },
    {
     "data": {
      "image/png": "[encoded data removed]",
      "text/latex": [
       "$\\displaystyle 0$"
      ],
      "text/plain": [
       "0"
      ]
     },
     "metadata": {},
     "output_type": "display_data"
    },
    {
     "name": "stdout",
     "output_type": "stream",
     "text": [
      "unit check\n"
     ]
    },
    {
     "data": {
      "image/png": "[encoded data removed]",
      "text/latex": [
       "$\\displaystyle 0$"
      ],
      "text/plain": [
       "0"
      ]
     },
     "metadata": {},
     "output_type": "display_data"
    },
    {
     "name": "stdout",
     "output_type": "stream",
     "text": [
      "Try again\n",
      "b) Using the uncertainty principle and the result of the previous section as uncertainty in position, what is the typical momentum? (this is called the Fermi momentum)\n"
     ]
    },
    {
     "data": {
      "image/png": "[encoded data removed]",
      "text/latex": [
       "$\\displaystyle 0$"
      ],
      "text/plain": [
       "0"
      ]
     },
     "metadata": {},
     "output_type": "display_data"
    },
    {
     "name": "stdout",
     "output_type": "stream",
     "text": [
      "unit check\n"
     ]
    },
    {
     "data": {
      "image/png": "[encoded data removed]",
      "text/latex": [
       "$\\displaystyle 0$"
      ],
      "text/plain": [
       "0"
      ]
     },
     "metadata": {},
     "output_type": "display_data"
    },
    {
     "name": "stdout",
     "output_type": "stream",
     "text": [
      "Try again\n",
      "c) What is the typical kinetic energy associated with momentum from the previous section?\n"
     ]
    },
    {
     "data": {
      "image/png": "[encoded data removed]",
      "text/latex": [
       "$\\displaystyle 0$"
      ],
      "text/plain": [
       "0"
      ]
     },
     "metadata": {},
     "output_type": "display_data"
    },
    {
     "name": "stdout",
     "output_type": "stream",
     "text": [
      "unit check\n"
     ]
    },
    {
     "data": {
      "image/png": "[encoded data removed]",
      "text/latex": [
       "$\\displaystyle 0$"
      ],
      "text/plain": [
       "0"
      ]
     },
     "metadata": {},
     "output_type": "display_data"
    },
    {
     "name": "stdout",
     "output_type": "stream",
     "text": [
      "Try again\n",
      "d) What is the energy density?\n"
     ]
    },
    {
     "data": {
      "image/png": "[encoded data removed]",
      "text/latex": [
       "$\\displaystyle 0$"
      ],
      "text/plain": [
       "0"
      ]
     },
     "metadata": {},
     "output_type": "display_data"
    },
    {
     "name": "stdout",
     "output_type": "stream",
     "text": [
      "unit check\n"
     ]
    },
    {
     "data": {
      "image/png": "[encoded data removed]",
      "text/latex": [
       "$\\displaystyle 0$"
      ],
      "text/plain": [
       "0"
      ]
     },
     "metadata": {},
     "output_type": "display_data"
    },
    {
     "name": "stdout",
     "output_type": "stream",
     "text": [
      "Try again\n",
      "e) Use the answer from the previous section as pressure, equate it to the gravitational pressure and find the radius\n"
     ]
    },
    {
     "data": {
      "image/png": "[encoded data removed]",
      "text/latex": [
       "$\\displaystyle 0$"
      ],
      "text/plain": [
       "0"
      ]
     },
     "metadata": {},
     "output_type": "display_data"
    },
    {
     "name": "stdout",
     "output_type": "stream",
     "text": [
      "unit check\n"
     ]
    },
    {
     "data": {
      "image/png": "[encoded data removed]",
      "text/latex": [
       "$\\displaystyle 0$"
      ],
      "text/plain": [
       "0"
      ]
     },
     "metadata": {},
     "output_type": "display_data"
    },
    {
     "name": "stdout",
     "output_type": "stream",
     "text": [
      "Try again\n",
      "f) Find the mass for which the gas dominated temperature is equal to the nuclear burning temperature\n"
     ]
    },
    {
     "data": {
      "image/png": "[encoded data removed]",
      "text/latex": [
       "$\\displaystyle 0$"
      ],
      "text/plain": [
       "0"
      ]
     },
     "metadata": {},
     "output_type": "display_data"
    },
    {
     "name": "stdout",
     "output_type": "stream",
     "text": [
      "unit check\n"
     ]
    },
    {
     "data": {
      "image/png": "[encoded data removed]",
      "text/latex": [
       "$\\displaystyle 0$"
      ],
      "text/plain": [
       "0"
      ]
     },
     "metadata": {},
     "output_type": "display_data"
    },
    {
     "name": "stdout",
     "output_type": "stream",
     "text": [
      "Try again\n"
     ]
    }
   ],
   "source": [
    "def exercise_7():\n",
    "    \n",
    "    import validate\n",
    "    import importlib\n",
    "    importlib.reload(validate)\n",
    "\n",
    "    n = sympy.Symbol('n', positive=True) # Number density\n",
    "    h = sympy.Symbol('h', positive=True) # Planck constant\n",
    "    m_e = sympy.Symbol('m_e', positive=True) # Electron mass\n",
    "    M = sympy.Symbol('M', positive=True) # Object mass\n",
    "    m_p = sympy.Symbol('m_p', positive=True) # Proton mass\n",
    "    G = sympy.Symbol('G', positive=True) # Gravitation constant\n",
    "    kT = sympy.Symbol('kT', positive=True) # Necessary temperature for nuclear burning\n",
    "    \n",
    "    # Unit check\n",
    "    mass = sympy.Symbol(r'\\mathcal{M}', positive=True) # Mass\n",
    "    length = sympy.Symbol(r'\\mathcal{L}', positive=True) # Length\n",
    "    time = sympy.Symbol(r'\\mathcal{T}', positive=True) # Time\n",
    "    energy = mass*(length/time)**2\n",
    "    unit_check = {n:length**-3,\n",
    "                  h:energy*time,\n",
    "                  m_e:mass,\n",
    "                  m_p:mass,\n",
    "                  M:mass,\n",
    "                  G:energy*length/mass**2,\n",
    "                  kT:energy}\n",
    "    \n",
    "    print('a) Given the number density n, what is the average distance between particles?')\n",
    "    answer_a = sympy.Integer(0)\n",
    "    display(answer_a)\n",
    "    print('unit check')\n",
    "    display(answer_a.subs(unit_check))\n",
    "    print(validate.exercise_7_a(answer_a))\n",
    "    \n",
    "    print('b) Using the uncertainty principle and the result of the previous section as uncertainty in position,'+\n",
    "          ' what is the typical momentum? (this is called the Fermi momentum)')\n",
    "    answer_b = sympy.Integer(0)\n",
    "    display(answer_b)\n",
    "    print('unit check')\n",
    "    display(answer_b.subs(unit_check))\n",
    "    print(validate.exercise_7_b(answer_b))\n",
    "    \n",
    "    print('c) What is the typical kinetic energy associated with momentum from the previous section?')\n",
    "    answer_c = sympy.Integer(0)\n",
    "    display(answer_c)\n",
    "    print('unit check')\n",
    "    display(answer_c.subs(unit_check))\n",
    "    print(validate.exercise_7_c(answer_c))\n",
    "    \n",
    "    print('d) What is the energy density?')\n",
    "    answer_d = sympy.Integer(0)\n",
    "    display(answer_d)\n",
    "    print('unit check')\n",
    "    display(answer_d.subs(unit_check))\n",
    "    print(validate.exercise_7_d(answer_d))\n",
    "    \n",
    "    print('e) Use the answer from the previous section as pressure, '+\n",
    "          'equate it to the gravitational pressure and find the radius')\n",
    "    answer_e = sympy.Integer(0)\n",
    "    display(answer_e)\n",
    "    print('unit check')\n",
    "    display(answer_e.subs(unit_check))\n",
    "    print(validate.exercise_7_e(answer_e))\n",
    "    \n",
    "    print('f) Find the mass for which the gas dominated temperature is equal to the nuclear burning temperature')\n",
    "    answer_f = sympy.Integer(0)\n",
    "    display(answer_f)\n",
    "    print('unit check')\n",
    "    display(answer_f.subs(unit_check))\n",
    "    print(validate.exercise_7_f(answer_f))\n",
    "    \n",
    "exercise_7()"
   ]
  },
  {
   "cell_type": "markdown",
   "metadata": {},
   "source": [
    "Substituting numbers yields [0.02](https://www.wolframalpha.com/input/?i=%28boltzmann+constant%29%5E%283%2F4%29*%281e7+kelvin%29%5E%283%2F4%29*%28%28planck+constant%29%2F%282*pi%29%29%5E%283%2F2%29%2F%28gravitation+constant%29%5E%283%2F2%29%2F%28proton+mass%29%5E2%2F%28electron+mass%29%5E%283%2F4%29%2F%28solar+mass%29) $M_{\\odot}$. A more [detailed calculation](https://ui.adsabs.harvard.edu/abs/1962AJ.....67S.579K/abstract) puts the limit at around 0.07 $M_{\\odot}$. Gas clouds below this limit collapse to form brown dwarfs, and above this limit they collapse to form stars.\n",
    "\n",
    "Another oddity worth noting is that for a degenerate object, the radius decreases with the mass, as opposed to almost anything else. A consequence of this anomaly is that planets / brown dwarfs have a maximum radius, but this a topic for another lecture."
   ]
  },
  {
   "cell_type": "markdown",
   "metadata": {},
   "source": [
    "## Maximum stellar mass"
   ]
  },
  {
   "cell_type": "markdown",
   "metadata": {},
   "source": [
    "In the previous section we discussed the minimum mass of a star, but is there a maximum mass? It turns out there is. To understand this limit, we need to understand the stability of stars. As we discussed earlier, stars balance gravity with thermal pressure. Pressure due to gravity scales as $R^{-4}$, but thermal pressure scales as $R^{-3 \\gamma}$, where $\\gamma$ is the adiabatic index. When $\\gamma>4/3$ the star has a stable response to perturbations: when you squeeze it, the pressure increases, which causes the star to expand. However, when $\\gamma \\le 4/3$ the response is not stable, meaning that squeezing the star causes the pressure to drop, which causes it to contract more and so on. A photon gas has $\\gamma=4/3$. From the discussion of the previous section, low mass star are almost entirely gas dominated, but become more radiation dominated as the mass increases. Since gas pressure is always present, the adiabatic index is always slightly above 4/3, and the excess is proportional to the gas to radiation pressure ratio. However, as the mass of the star increases, general relativistic effect become important. In particular, gravity is slightly stronger than Newtonian gravity, by the so called Schwartzschild parameter $G M / R c^2$. One interpretation of this value is that it is the ratio between the binding energy of the star and the rest mass energy. This effect is partly responsible, among other things, for the precession of Mercury."
   ]
  },
  {
   "cell_type": "code",
   "execution_count": 26,
   "metadata": {},
   "outputs": [
    {
     "name": "stdout",
     "output_type": "stream",
     "text": [
      "a) Equate the gas to radiation pressure ratio to the Schwartzschild parameter to find the mass, assume a radiation dominated star\n"
     ]
    },
    {
     "data": {
      "image/png": "[encoded data removed]",
      "text/latex": [
       "$\\displaystyle 0$"
      ],
      "text/plain": [
       "0"
      ]
     },
     "metadata": {},
     "output_type": "display_data"
    },
    {
     "name": "stdout",
     "output_type": "stream",
     "text": [
      "unit check\n"
     ]
    },
    {
     "data": {
      "image/png": "[encoded data removed]",
      "text/latex": [
       "$\\displaystyle 0$"
      ],
      "text/plain": [
       "0"
      ]
     },
     "metadata": {},
     "output_type": "display_data"
    },
    {
     "name": "stdout",
     "output_type": "stream",
     "text": [
      "Try again\n"
     ]
    }
   ],
   "source": [
    "def exercise_8():\n",
    "    \n",
    "    import validate\n",
    "    import importlib\n",
    "    importlib.reload(validate)\n",
    "\n",
    "    \n",
    "    G = sympy.Symbol('G', positive=True) # Gravitation constant\n",
    "    h = sympy.Symbol('h', positive=True) # Planck constant\n",
    "    kT = sympy.Symbol('kT', positive=True) # Nuclear burning temperature\n",
    "    c = sympy.Symbol('c', positive=True) # Speed of light\n",
    "    m_p = sympy.Symbol('m_p', positive=True) # Proton mass\n",
    "    \n",
    "    # Unit test\n",
    "    mass = sympy.Symbol(r'\\mathcal{M}', positive=True)\n",
    "    length = sympy.Symbol(r'\\mathcal{L}', positive=True)\n",
    "    time = sympy.Symbol(r'\\mathcal{T}', positive=True)\n",
    "    energy = mass*(length/time)**2\n",
    "    unit_check = {h:energy*time,\n",
    "                  c:length/time,\n",
    "                  m_p:mass,\n",
    "                  G:energy*length/mass**2,\n",
    "                  kT:energy}\n",
    "    \n",
    "    \n",
    "    print('a) Equate the gas to radiation pressure ratio to the Schwartzschild parameter to find the mass, '+\n",
    "          'assume a radiation dominated star')\n",
    "    answer_a = sympy.Integer(0)\n",
    "    display(answer_a)\n",
    "    print('unit check')\n",
    "    display(answer_a.subs(unit_check))\n",
    "    print(validate.exercise_8_a(answer_a))\n",
    "    \n",
    "exercise_8() "
   ]
  },
  {
   "cell_type": "markdown",
   "metadata": {},
   "source": [
    "[Substituting numbers](https://www.wolframalpha.com/input/?i=%28speed+of+light%29%5E%287%2F2%29*%28reduced+planck+constant%29%5E%283%2F2%29%2FG%5E%283%2F2%29%2F%281e7+kelvin%29%2F%28boltzmann+constant%29%2F%28proton+mass%29) yields about $10^6 \\, M_{\\odot}$. A collapsing gas cloud more massive than this cannot support itself against gravity and will continue to collapse until it forms a supermassive black hole. Some people think that the the seeds for supermassive black holes in the centres of galaxies formed from such clouds.\n",
    "\n",
    "In reality massive stars are very rare. This because they form less often than low mass stars and have shorter lives. Moreover, the most [massive star ever observed](https://en.wikipedia.org/wiki/R136a1) is around 300 $M_{\\odot}$, considerably less massive than the the limit above. Stars more massive than about 100 $M_{\\odot}$ ([Ledoux mass](https://ui.adsabs.harvard.edu/abs/1941ApJ....94..537L/abstract)) develop an instability that causes them to expel chunks of themselves out into space. Even at lower masses, some massive stars lose around half their mass to strong stellar winds."
   ]
  },
  {
   "cell_type": "markdown",
   "metadata": {},
   "source": [
    "## Stellar End of Life"
   ]
  },
  {
   "cell_type": "markdown",
   "metadata": {},
   "source": [
    "<figure>\n",
    "    <img src=\"https://upload.wikimedia.org/wikipedia/commons/thumb/e/ef/Zams_and_tracks.png/750px-Zams_and_tracks.png\">\n",
    "    <figcaption> Evolutionary tracks of stars with different masses </figcaption>\n",
    "</figure>"
   ]
  },
  {
   "cell_type": "markdown",
   "metadata": {},
   "source": [
    "All stars more massive than about 0.3 $M_{\\odot}$ become giants toward the end of their lives (below this mass stars skip this stage and turn directly into white dwarfs, see below). Stars less massive than about 0.8 $M_{\\odot}$ have a lifetime longer than the age of the universe, so they will turn into giants eventually, but we can't see any such giants today. In the giant phase the radius increases by about two orders of magnitude and the luminosity even more. When the Sun turns into a red giant in a few billion years it will boil the Earth before engulfing it.\n",
    "\n",
    "Giants are so extended and cold that the dominant opacity mechanism is [dissociation of $\\rm H^{-}$ ions](https://en.wikipedia.org/wiki/Hayashi_track). The properties of this mechanism is beyond the scope of this lecture, but its most important feature is that it has a very [steep temperature dependence](https://www.astro.princeton.edu/~gk/A403/opac.pdf), so in essence it restricts the surface temperature to the range 4000-3000K over a wide range of luminosities.\n",
    "\n",
    "During the giant phase stars can expel large portions of the mass in stellar winds or episodic mass loss, to form [planetary nebula](https://en.wikipedia.org/wiki/Planetary_nebula). Side note, planetary nebula have nothing to do with planets, and they got their name because they don't twinkle like stars (since they are extended objects), which is one of they ways you can tell apart planets from stars. At some point the star exhausts all of the remaining nuclear fuel. At that point the star collapses until electron degeneracy pressure kicks in. The resulting object is called white dwarf, except for some rare caveats this is the end state of a low mass star.\n",
    "\n",
    "In the next exercise we will calculate the upper limit on the mass of a white dwarf. The upper mass limit on white dwarfs is similar to the upper mass limit on stars in the sense that it becomes unstable when the effective adiabatic index drops to 4/3. In the case of massive stars it is because photons outnumber baryons, and in the case of a white dwarf the electrons become relativistic."
   ]
  },
  {
   "cell_type": "code",
   "execution_count": 27,
   "metadata": {},
   "outputs": [
    {
     "name": "stdout",
     "output_type": "stream",
     "text": [
      "a) Recall the definition of the Fermi momentum\n"
     ]
    },
    {
     "data": {
      "image/png": "[encoded data removed]",
      "text/latex": [
       "$\\displaystyle 0$"
      ],
      "text/plain": [
       "0"
      ]
     },
     "metadata": {},
     "output_type": "display_data"
    },
    {
     "name": "stdout",
     "output_type": "stream",
     "text": [
      "unit check\n"
     ]
    },
    {
     "data": {
      "image/png": "[encoded data removed]",
      "text/latex": [
       "$\\displaystyle 0$"
      ],
      "text/plain": [
       "0"
      ]
     },
     "metadata": {},
     "output_type": "display_data"
    },
    {
     "name": "stdout",
     "output_type": "stream",
     "text": [
      "Try again\n",
      "b) In the ultra relativistic regime, what would be the corresponding energy?\n"
     ]
    },
    {
     "data": {
      "image/png": "[encoded data removed]",
      "text/latex": [
       "$\\displaystyle 0$"
      ],
      "text/plain": [
       "0"
      ]
     },
     "metadata": {},
     "output_type": "display_data"
    },
    {
     "name": "stdout",
     "output_type": "stream",
     "text": [
      "unit check\n"
     ]
    },
    {
     "data": {
      "image/png": "[encoded data removed]",
      "text/latex": [
       "$\\displaystyle 0$"
      ],
      "text/plain": [
       "0"
      ]
     },
     "metadata": {},
     "output_type": "display_data"
    },
    {
     "name": "stdout",
     "output_type": "stream",
     "text": [
      "Try again\n",
      "c) What is the energy density?\n"
     ]
    },
    {
     "data": {
      "image/png": "[encoded data removed]",
      "text/latex": [
       "$\\displaystyle 0$"
      ],
      "text/plain": [
       "0"
      ]
     },
     "metadata": {},
     "output_type": "display_data"
    },
    {
     "name": "stdout",
     "output_type": "stream",
     "text": [
      "unit check\n"
     ]
    },
    {
     "data": {
      "image/png": "[encoded data removed]",
      "text/latex": [
       "$\\displaystyle 0$"
      ],
      "text/plain": [
       "0"
      ]
     },
     "metadata": {},
     "output_type": "display_data"
    },
    {
     "name": "stdout",
     "output_type": "stream",
     "text": [
      "Try again\n",
      "d) Assume the energy density is comparable to the pressure and compare it to the gravitational pressure to obtain the mass\n"
     ]
    },
    {
     "data": {
      "image/png": "[encoded data removed]",
      "text/latex": [
       "$\\displaystyle 0$"
      ],
      "text/plain": [
       "0"
      ]
     },
     "metadata": {},
     "output_type": "display_data"
    },
    {
     "name": "stdout",
     "output_type": "stream",
     "text": [
      "unit check\n"
     ]
    },
    {
     "data": {
      "image/png": "[encoded data removed]",
      "text/latex": [
       "$\\displaystyle 0$"
      ],
      "text/plain": [
       "0"
      ]
     },
     "metadata": {},
     "output_type": "display_data"
    },
    {
     "name": "stdout",
     "output_type": "stream",
     "text": [
      "Try again\n"
     ]
    }
   ],
   "source": [
    "def exercise_9():\n",
    "    \n",
    "    import validate\n",
    "    import importlib\n",
    "    importlib.reload(validate)\n",
    "    \n",
    "    n = sympy.Symbol('n', positive=True) # Number density\n",
    "    h = sympy.Symbol('h', positive=True) # Planck constant\n",
    "    c = sympy.Symbol('c', positive=True) # Speed of light\n",
    "    G = sympy.Symbol('G', positive=True) # Gravitation constant\n",
    "    m_p = sympy.Symbol('m_p', positive=True) # Proton mass\n",
    "    \n",
    "    # Unit check\n",
    "    mass = sympy.Symbol(r'\\mathcal{M}', positive=True)\n",
    "    length = sympy.Symbol(r'\\mathcal{L}', positive=True)\n",
    "    time = sympy.Symbol(r'\\mathcal{T}', positive=True)\n",
    "    energy = mass*(length/time)**2\n",
    "    unit_check = {n:length**-3,\n",
    "                  h:energy*time,\n",
    "                  c:length/time,\n",
    "                  m_p:mass,\n",
    "                  G:energy*length/mass**2}\n",
    "    \n",
    "    print('a) Recall the definition of the Fermi momentum')\n",
    "    answer_a = sympy.Integer(0)\n",
    "    display(answer_a)\n",
    "    print('unit check')\n",
    "    display(answer_a.subs(unit_check))\n",
    "    print(validate.exercise_9_a(answer_a))\n",
    "    \n",
    "    print('b) In the ultra relativistic regime, what would be the corresponding energy?')\n",
    "    answer_b = sympy.Integer(0)\n",
    "    display(answer_b)\n",
    "    print('unit check')\n",
    "    display(answer_b.subs(unit_check))\n",
    "    print(validate.exercise_9_b(answer_b))\n",
    "    \n",
    "    print('c) What is the energy density?')\n",
    "    answer_c = sympy.Integer(0)\n",
    "    display(answer_c)\n",
    "    print('unit check')\n",
    "    display(answer_c.subs(unit_check))\n",
    "    print(validate.exercise_9_c(answer_c))\n",
    "    \n",
    "    print('d) Assume the energy density is comparable to the pressure and compare it to the '+\n",
    "          'gravitational pressure to obtain the mass')\n",
    "    answer_d = sympy.Integer(0)\n",
    "    display(answer_d)\n",
    "    print('unit check')\n",
    "    display(answer_d.subs(unit_check))\n",
    "    print(validate.exercise_9_d(answer_d))\n",
    "\n",
    "exercise_9()"
   ]
  },
  {
   "cell_type": "markdown",
   "metadata": {},
   "source": [
    "The last expression we found is called the [Chandrasekhar limit](https://en.wikipedia.org/wiki/Chandrasekhar_limit) and its value is 1.4 $M_{\\odot}$.\n",
    "\n",
    "While there are some thermonuclear burning in white dwarfs, their emission is primarily powered by residual heat, and so the luminosity decreases with age. As a very crude approximation, we can estimate the luminosity as the binding energy over the age, which for $10^9$ year is [a few $L_{\\odot}$](https://www.wolframalpha.com/input/?i=%28gravitation+constant%29*%28solar+mass%29%5E2%2F%28earth+radius%29%2F%281e9+year%29%2F%28solar+luminosity%29). However, since the radius is about 100 times smaller than that of the sun, the temperature is 10 times larger, and that is why they appear white.\n",
    "\n",
    "Giant stars have a degenerate core at their centre, which eventually evolves to be the white dwarf. As the mass of the star increases, so does the mass of the white dwarf. When the mass of the star exceeds about 8 solar masses, the mass of the core exceeds the Chandrasekhar mass. In this case, the star ends its life in a spectacular explosion called a core collapse supernova. The supernova leaves behind a compact object called a relic, which could either be a neutron star or a black hole. \n",
    "\n",
    "Despite their mysterious reputation, from an astrophysical perspective black holes are quite simple. When an object collapses to a black hole, all of the information about the object is destroyed except for three conserved quantities: mass, angular momentum and electric charge (of which only the first two are of astrophysical significance). One can estimate the radius of a black hole using the condition that the escape velocity at the horizon is equal to the speed of light $R \\approx G M/c^2$. This radius is known as either the Schwarzschild radius, or gravitational radius. In principle the spin also affects the radius, but it only changes the radius by a factor of a few.\n",
    "\n",
    "Neutron stars are supported against gravity by the strong nuclear force. Many of them are very close to the Chandrasekhar mass. This is because a supernova happens when the degenerate core exceeds the Chandrasekhar limit. The neutron star can gain more mass during the supernova and later via an accretion disc. In the following exercise we will obtain a theoretical upper limit on the mass of a neutron star, above which nuclear forces cannot resist gravity and the neutron star collapses to a black hole."
   ]
  },
  {
   "cell_type": "code",
   "execution_count": 28,
   "metadata": {},
   "outputs": [
    {
     "name": "stdout",
     "output_type": "stream",
     "text": [
      "a) As a crude approximation, one can assume that the strong force is mediated by pions. What is the Compton wavelength of a pion?\n"
     ]
    },
    {
     "data": {
      "image/png": "[encoded data removed]",
      "text/latex": [
       "$\\displaystyle 0$"
      ],
      "text/plain": [
       "0"
      ]
     },
     "metadata": {},
     "output_type": "display_data"
    },
    {
     "name": "stdout",
     "output_type": "stream",
     "text": [
      "unit check\n"
     ]
    },
    {
     "data": {
      "image/png": "[encoded data removed]",
      "text/latex": [
       "$\\displaystyle 0$"
      ],
      "text/plain": [
       "0"
      ]
     },
     "metadata": {},
     "output_type": "display_data"
    },
    {
     "name": "stdout",
     "output_type": "stream",
     "text": [
      "Try again\n",
      "b) Suppose that the distance between neighbouring nucleons is the pion Compton wavelenght. What is the nuclear mass density?\n"
     ]
    },
    {
     "data": {
      "image/png": "[encoded data removed]",
      "text/latex": [
       "$\\displaystyle 0$"
      ],
      "text/plain": [
       "0"
      ]
     },
     "metadata": {},
     "output_type": "display_data"
    },
    {
     "name": "stdout",
     "output_type": "stream",
     "text": [
      "unit check\n"
     ]
    },
    {
     "data": {
      "image/png": "[encoded data removed]",
      "text/latex": [
       "$\\displaystyle 0$"
      ],
      "text/plain": [
       "0"
      ]
     },
     "metadata": {},
     "output_type": "display_data"
    },
    {
     "name": "stdout",
     "output_type": "stream",
     "text": [
      "Try again\n",
      "c) For an object with total mass M, how small must the radius be so that the escape velocity is equal to the speed of light?\n"
     ]
    },
    {
     "data": {
      "image/png": "[encoded data removed]",
      "text/latex": [
       "$\\displaystyle 0$"
      ],
      "text/plain": [
       "0"
      ]
     },
     "metadata": {},
     "output_type": "display_data"
    },
    {
     "name": "stdout",
     "output_type": "stream",
     "text": [
      "unit check\n"
     ]
    },
    {
     "data": {
      "image/png": "[encoded data removed]",
      "text/latex": [
       "$\\displaystyle 0$"
      ],
      "text/plain": [
       "0"
      ]
     },
     "metadata": {},
     "output_type": "display_data"
    },
    {
     "name": "stdout",
     "output_type": "stream",
     "text": [
      "Try again\n",
      "d) What would be a mass of an object with nuclear density and the radius you found in the previous section?\n"
     ]
    },
    {
     "data": {
      "image/png": "[encoded data removed]",
      "text/latex": [
       "$\\displaystyle 0$"
      ],
      "text/plain": [
       "0"
      ]
     },
     "metadata": {},
     "output_type": "display_data"
    },
    {
     "name": "stdout",
     "output_type": "stream",
     "text": [
      "unit check\n"
     ]
    },
    {
     "data": {
      "image/png": "[encoded data removed]",
      "text/latex": [
       "$\\displaystyle 0$"
      ],
      "text/plain": [
       "0"
      ]
     },
     "metadata": {},
     "output_type": "display_data"
    },
    {
     "name": "stdout",
     "output_type": "stream",
     "text": [
      "Try again\n"
     ]
    }
   ],
   "source": [
    "def exercise_10():\n",
    "    \n",
    "    import validate\n",
    "    import importlib\n",
    "    importlib.reload(validate)\n",
    "    \n",
    "    m_pi = sympy.Symbol(r'm_{\\pi}', positive=True) # Pion mass\n",
    "    h = sympy.Symbol('h', positive=True) # Planck constant\n",
    "    c = sympy.Symbol('c', positive=True) # Speed of light\n",
    "    m_n = sympy.Symbol('m_n', positive=True) # Nucleon mass\n",
    "    G = sympy.Symbol('G', positive=True) # Gravitation constant\n",
    "    M = sympy.Symbol('M', positive=True) # Mass\n",
    "    \n",
    "    # Unit check\n",
    "    mass = sympy.Symbol(r'\\mathcal{M}', positive=True)\n",
    "    length = sympy.Symbol(r'\\mathcal{L}', positive=True)\n",
    "    time = sympy.Symbol(r'\\mathcal{T}', positive=True)\n",
    "    energy = mass*(length/time)**2\n",
    "    unit_check = {h:energy*time,\n",
    "                  m_pi:mass,\n",
    "                  c:length/time,\n",
    "                  m_n:mass,\n",
    "                  G:energy*length/mass**2,\n",
    "                  M:mass}\n",
    "    \n",
    "    print('a) As a crude approximation, one can assume that the strong force is mediated by pions. '+\n",
    "          'What is the Compton wavelength of a pion?')\n",
    "    answer_a = sympy.Integer(0)\n",
    "    display(answer_a)\n",
    "    print('unit check')\n",
    "    display(answer_a.subs(unit_check))\n",
    "    print(validate.exercise_10_a(answer_a))\n",
    "    \n",
    "    print('b) Suppose that the distance between neighbouring nucleons is the pion Compton wavelenght. '+\n",
    "          'What is the nuclear mass density?')\n",
    "    answer_b = sympy.Integer(0)\n",
    "    display(answer_b)\n",
    "    print('unit check')\n",
    "    display(answer_b.subs(unit_check))\n",
    "    print(validate.exercise_10_b(answer_b))\n",
    "    \n",
    "    print('c) For an object with total mass M, '+\n",
    "          'how small must the radius be so that the escape velocity is equal to the speed of light?')\n",
    "    answer_c = sympy.Integer(0)\n",
    "    display(answer_c)\n",
    "    print('unit check')\n",
    "    display(answer_c.subs(unit_check))\n",
    "    print(validate.exercise_10_c(answer_c))\n",
    "    \n",
    "    print('d) What would be a mass of an object with nuclear density and the radius you found in the previous section?')\n",
    "    answer_d = sympy.Integer(0)\n",
    "    display(answer_d)\n",
    "    print('unit check')\n",
    "    display(answer_d.subs(unit_check))\n",
    "    print(validate.exercise_10_d(answer_d))\n",
    "    \n",
    "exercise_10()"
   ]
  },
  {
   "cell_type": "markdown",
   "metadata": {},
   "source": [
    "A more careful calculation puts this upper limit at around 3 $M_{\\odot}$. Empirical studies place the limit at around 2.2 $M_{\\odot}$."
   ]
  },
  {
   "cell_type": "markdown",
   "metadata": {},
   "source": [
    "# Conclusion"
   ]
  },
  {
   "cell_type": "markdown",
   "metadata": {},
   "source": [
    "The purpose of this talk was to introduce you to the complex topic of stellar evolution. We've only skimmed the tip of the iceberg, but already we are able to look at the HR diagram and see more than a Rorschach picutre. We covered the different regimes of main sequence stars, and touched upon the giant branch and the white dwarf branch."
   ]
  },
  {
   "cell_type": "markdown",
   "metadata": {},
   "source": [
    "<img src=\"https://upload.wikimedia.org/wikipedia/commons/6/6b/HRDiagram.png\">"
   ]
  },
  {
   "cell_type": "markdown",
   "metadata": {},
   "source": [
    "# Suggested reading"
   ]
  },
  {
   "cell_type": "markdown",
   "metadata": {},
   "source": [
    "[Radiative processes in astrophysics by Rybicky and Lightman](http://www.bartol.udel.edu/~owocki/phys633/RadProc-RybLightman.pdf)\n",
    "\n",
    "[Radiative transfer on AstroBaki](https://casper.ssl.berkeley.edu/astrobaki/index.php/Radiative_Transfer_Equation)\n",
    "\n",
    "[Stellar structure on AstroBaki](https://casper.ssl.berkeley.edu/astrobaki/index.php/Stellar_Structure)\n",
    "\n",
    "[Stellar structure and Evolution by O. R. Pols](http://www.ucolick.org/~woosley/ay112-14/texts/pols11.pdf)"
   ]
  },
  {
   "cell_type": "markdown",
   "metadata": {},
   "source": [
    "# Acknowledgements"
   ]
  },
  {
   "cell_type": "markdown",
   "metadata": {},
   "source": [
    "I'd like to thank Emily Tyhurst, Sarah Gossan, Katie Breivik, Antoine Marchal and Patrick Breysse for the valueable feedback."
   ]
  },
  {
   "cell_type": "code",
   "execution_count": null,
   "metadata": {},
   "outputs": [],
   "source": []
  }
 ],
 "metadata": {
  "kernelspec": {
   "display_name": "Python 2",
   "language": "python",
   "name": "python2"
  },
  "language_info": {
   "codemirror_mode": {
    "name": "ipython",
    "version": 2
   },
   "file_extension": ".py",
   "mimetype": "text/x-python",
   "name": "python",
   "nbconvert_exporter": "python",
   "pygments_lexer": "ipython2",
   "version": "2.7.10"
  }
 },
 "nbformat": 4,
 "nbformat_minor": 4
}
